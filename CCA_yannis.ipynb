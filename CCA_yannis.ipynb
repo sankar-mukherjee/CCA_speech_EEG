{
 "cells": [
  {
   "cell_type": "code",
   "execution_count": 1,
   "metadata": {
    "code_folding": [
     0
    ]
   },
   "outputs": [],
   "source": [
    "# initialize\n",
    "import mne\n",
    "import os\n",
    "import scipy.io\n",
    "import numpy as np\n",
    "import matplotlib as mpl\n",
    "from matplotlib import pyplot as plt\n",
    "from scipy import signal\n",
    "from scipy import stats\n",
    "import pandas as pd\n",
    "import pickle\n",
    "import warnings\n",
    "warnings.filterwarnings('ignore')\n",
    "from itertools import permutations,combinations\n",
    "from IPython.display import clear_output\n",
    "import seaborn as sns\n",
    "from scipy.linalg import toeplitz\n",
    "from numpy import linalg as LA\n",
    "from mne.event import define_target_events\n",
    "\n",
    "data_path = os.path.dirname(os.path.dirname(os.getcwd()))\n",
    "\n",
    "\n",
    "save_path = data_path + '/python/data/coherence'\n",
    "info = mne.io.read_raw_fif((save_path+'-info'),preload=True)\n",
    "\n",
    "subject_name = ['Alice','Andrea','Daniel','Elena','Elenora','Elisa','Federica','Francesca','Gianluca1','Giada','Giorgia',\n",
    "                'Jonluca','Laura','Leonardo','Linda','Lucrezia','Manu','Marco','Martina','Pagani','Pasquale','Sara',\n",
    "                'Silvia','Silvia2','Tommaso']\n",
    "\n",
    "\n",
    "save_path = data_path + '/python/data/extracted_features/features.pkl'\n",
    "feat = pd.read_pickle(save_path)\n",
    "\n",
    "clear_output()"
   ]
  },
  {
   "cell_type": "code",
   "execution_count": null,
   "metadata": {},
   "outputs": [],
   "source": []
  },
  {
   "cell_type": "code",
   "execution_count": 6,
   "metadata": {
    "code_folding": [
     0,
     28,
     39,
     56,
     99
    ]
   },
   "outputs": [],
   "source": [
    "# data preprocessing parameters\n",
    "remove_first = 0.5 #second\n",
    "new_sampling_rate = 100\n",
    "\n",
    "no_surrogate = 1000\n",
    "features = ['envelop','jawaopening','lipaparature','lipProtrusion','TTCD','TMCD','TBCD']\n",
    "features = ['envelop']\n",
    "features = ['jawaopening','lipaparature','lipProtrusion','TTCD','TMCD','TBCD']\n",
    "\n",
    "\n",
    "con = ['hyper','normal','hypo','All']\n",
    "con = 'All'\n",
    "\n",
    "trial_len = 2 #(greater than)second \n",
    "\n",
    "apply_delay = False\n",
    "delay = [0]\n",
    "\n",
    "# filter frequency\n",
    "apply_filter = False\n",
    "filter_band = [4,8]\n",
    "\n",
    "\n",
    "\n",
    "# cca parameters\n",
    "\n",
    "\n",
    "# CCA functions\n",
    "def nanRXY(X,Y):\n",
    "    D = X.shape[0]\n",
    "    x = np.vstack([X,Y])\n",
    "    RXY = np.cov(x)\n",
    "    \n",
    "    Rxx = RXY[0:D,0:D]\n",
    "    Ryy = RXY[D:,D:]\n",
    "    Rxy = RXY[0:D,D:]\n",
    "    Ryx = RXY[D:,0:D]\n",
    "    return Rxx,Ryy,Rxy,Ryx\n",
    "    \n",
    "def regInv(R,K,typeF):\n",
    "    \n",
    "    eigenValues,eigenVectors = LA.eigh(R)\n",
    "    idx = np.argsort(eigenValues)\n",
    "    eigenValues = eigenValues[idx]\n",
    "    eigenVectors = eigenVectors[:,idx]\n",
    "    \n",
    "    if(typeF=='sqrt'):\n",
    "        d = 1/np.sqrt(eigenValues[-K:])  # regularized sqrt inverse\n",
    "    else:\n",
    "        d = 1/eigenValues[-K:]           #regularized inverse\n",
    "\n",
    "    d = np.diag(d)   \n",
    "    SqrtInvR= np.dot(eigenVectors[:,-K:], (np.dot( d, eigenVectors[:,-K:].T)))\n",
    "\n",
    "    return SqrtInvR\n",
    "\n",
    "def myCannoncorr(X,Y,Kx,Ky):\n",
    "    Rxx,Ryy,Rxy,Ryx = nanRXY(X,Y)    \n",
    "\n",
    "    # compute A\n",
    "    Rxxnsq = regInv(Rxx,Kx,'sqrt'); # regularized Rxx^(-1/2)\n",
    "    Ryyn = regInv(Ryy,Ky,'x')\n",
    "\n",
    "    M = Rxxnsq.dot(Rxy).dot(Ryyn).dot(Ryx).dot(Rxxnsq)\n",
    "    M = np.sum([M,M.T],axis=0) / 2   # fix nummerical precision asymmetric\n",
    "\n",
    "    eigenValues,eigenVectors = LA.eigh(M)\n",
    "    idx = np.argsort(eigenValues)\n",
    "    #idx = idx[::-1]\n",
    "\n",
    "    eigenValues = eigenValues[idx]\n",
    "    eigenVectors = eigenVectors[:,idx]\n",
    "\n",
    "    d = eigenVectors[:,-np.min((Kx,Ky)):]    \n",
    "    A = Rxxnsq.dot(d)    # invert coordinate transformation\n",
    "\n",
    "\n",
    "    # compute B\n",
    "    Ryynsq=regInv(Ryy,Ky,'sqrt') # regularized Ryy^(-1/2)\n",
    "    D=Ryynsq.dot(Ryx).dot(Rxxnsq).dot(d)\n",
    "    B=Ryynsq.dot(D)\n",
    "\n",
    "\n",
    "    U=A.T.dot(X)\n",
    "    V=B.T.dot(Y)\n",
    "    \n",
    "    \n",
    "    nVars= np.min((U.shape[0],V.shape[0]))\n",
    "    rhos = np.zeros((nVars,1))\n",
    "    pvals = np.zeros((nVars,1))\n",
    "\n",
    "    for i in range(0,nVars):\n",
    "        r,p = stats.pearsonr(U[i,:],V[i,:])\n",
    "        rhos[i] = r\n",
    "        pvals[i] = p\n",
    "    \n",
    "    \n",
    "    return A,B,rhos,pvals,U,V,Rxx,Ryy\n",
    "\n",
    "def get_component_topo_time(A,B,Ryy,temporal_aperature,nComp,new_sampling_rate):   \n",
    "    b = B[:,0:nComp]/LA.norm(B[:,0:nComp])\n",
    "    forwards = Ryy.dot(b).dot(LA.inv(b.T.dot(Ryy).dot(b)))  # B are the spatial filters applied to the EEG\n",
    "    filters = A[:,0:nComp] # A are the filters applied to the kinematics    \n",
    "    tvec=np.arange((-temporal_aperature/2+1),(temporal_aperature/2)+1)/new_sampling_rate\n",
    "    \n",
    "    return forwards,filters, tvec\n",
    "\n",
    "\n",
    "#the temporal aperture -- how long to filter the kinematic signals (i.e., 1 second)\n",
    "temporal_aperature = 100\n",
    "\n",
    "\n",
    "Kx = 20    \n",
    "\n",
    "\n",
    "sperate_tounge = False\n",
    "seperate_jaw = True\n",
    "\n",
    "if(sperate_tounge):\n",
    "    Ky = 3\n",
    "    nComp = 3\n",
    "    features = ['TTCD','TMCD','TBCD']\n",
    "    sperate_name = '_tongue'\n",
    "elif(seperate_jaw):\n",
    "    Ky = 3\n",
    "    nComp = 3\n",
    "    features = ['jawaopening','lipaparature','lipProtrusion']\n",
    "    sperate_name = '_lipJaw'\n",
    "else:\n",
    "    Ky = 5\n",
    "    nComp = 5\n",
    "    features = ['jawaopening','lipaparature','lipProtrusion','TTCD','TMCD','TBCD']\n",
    "    sperate_name = ''\n",
    "    \n",
    "    \n",
    "    \n",
    "################################ name ################################################\n",
    "if(apply_filter):\n",
    "    save_name = 'cca_yannis_Greaterthan_'+str(trial_len)+'sec_removeFirst_'\\\n",
    "            +str(remove_first)+'concatALLsub_'+str(delay[0])\\\n",
    "            +'delay_'+str(temporal_aperature)+'temporalAperature'\\\n",
    "            +'_filter_'+str(filter_band[0])+'-'+str(filter_band[1])\\\n",
    "            +'_kx-'+str(Kx)+'_ky-'+str(Ky)+sperate_name\n",
    "else:\n",
    "    save_name = 'cca_yannis_Greaterthan_'+str(trial_len)+'sec_removeFirst_'\\\n",
    "            +str(remove_first)+'concatALLsub_'+str(delay[0])\\\n",
    "            +'delay_'+str(temporal_aperature)+'temporalAperature_removeOnesub'\\\n",
    "            +'_kx-'+str(Kx)+'_ky-'+str(Ky)+sperate_name\n"
   ]
  },
  {
   "cell_type": "code",
   "execution_count": null,
   "metadata": {},
   "outputs": [],
   "source": []
  },
  {
   "cell_type": "code",
   "execution_count": null,
   "metadata": {},
   "outputs": [],
   "source": []
  },
  {
   "cell_type": "markdown",
   "metadata": {},
   "source": [
    "# data selection\n"
   ]
  },
  {
   "cell_type": "code",
   "execution_count": 3,
   "metadata": {
    "code_folding": [
     0,
     1,
     25,
     40,
     72,
     82,
     114
    ]
   },
   "outputs": [],
   "source": [
    "# data selection functions\n",
    "def get_eeg(raw,mat,resample_freq):\n",
    "    trialno = mat['experiment']['media'][0,0]['permute'][0][0][0] \n",
    "    events_ = mne.find_events(raw, stim_channel='Trigger')\n",
    "    a = events_[np.where(events_[:,2] == 105)[0],0]\n",
    "    b = events_[np.where(events_[:,2] == 106)[0],0]\n",
    "\n",
    "    a = a - raw.first_samp\n",
    "    b = b - raw.first_samp\n",
    "\n",
    "    A = raw.get_data()\n",
    "    B=[]\n",
    "    for i in range(0,len(a)):\n",
    "        #c = signal.decimate(A[0:59,a[i]:b[i]], 10) # decimate to 200 hz 1000/100 =10\n",
    "        c = A[0:59,a[i]:b[i]]\n",
    "        x = c.shape[1]/1000 # Number of seconds in signal X\n",
    "        x = x*resample_freq     # Number of samples to downsample\n",
    "        c = scipy.signal.resample(c, int(np.ceil(x)),axis=1)\n",
    "    \n",
    "        df = pd.DataFrame({'trialno':trialno[i],'eeg':[c]})\n",
    "        B.append(df)\n",
    "    A = pd.concat((B),axis=0)\n",
    "    clear_output()\n",
    "    return A\n",
    "\n",
    "def get_EMA(mat,feat):    \n",
    "    trialno = mat['experiment']['media'][0,0]['permute'][0][0][0]    \n",
    "    response = np.stack(mat['experiment']['media'][0,0]['Cresponse'][0][0].flatten()) - \\\n",
    "                np.stack(mat['experiment']['media'][0,0]['Sresponse'][0][0].flatten())    \n",
    "    RT = np.stack(mat['experiment']['media'][0,0]['responseT'][0][0].flatten())   \n",
    "    filename = np.stack(mat['experiment']['media'][0][0]['filename'][0][0][0]).flatten()\n",
    "    df1 = pd.DataFrame({'trialno': range(200)})\n",
    "    df1['trialno'] = trialno\n",
    "    df1['response'] = response\n",
    "    df1['RT'] = RT\n",
    "\n",
    "    a = feat.merge(df1,on='trialno')\n",
    "    \n",
    "    return a\n",
    "\n",
    "def align_data(B):\n",
    "    eeg=[]\n",
    "    ema=[]\n",
    "    eeg_ema=[]\n",
    "    for i in range(0,B.shape[0]):\n",
    "        a = np.stack(B.iloc[i]['eeg']).shape[1]\n",
    "        b = np.stack(B.iloc[i]['TTCD']).shape[0]\n",
    "        \n",
    "        x = np.stack((B.iloc[i]['envelop'].flatten(),\n",
    "                       B.iloc[i]['jawaopening'].flatten(),\n",
    "                       B.iloc[i]['lipaparature'].flatten(),\n",
    "                       B.iloc[i]['lipProtrusion'].flatten(),\n",
    "                       B.iloc[i]['TBCD'].flatten(),\n",
    "                       B.iloc[i]['TMCD'].flatten(),\n",
    "                       B.iloc[i]['TTCD'].flatten()))\n",
    "        X=[]\n",
    "        Y=[]\n",
    "        if(b>a):\n",
    "            X = B.iloc[i]['eeg']\n",
    "            Y = x[:,:a]\n",
    "        elif(a>b):\n",
    "            X = B.iloc[i]['eeg'][:,:b]\n",
    "            Y = x\n",
    "        else:\n",
    "            X = B.iloc[i]['eeg']\n",
    "            Y = x\n",
    "            \n",
    "        eeg.append(X)\n",
    "        ema.append(Y)    \n",
    "        eeg_ema.append(np.vstack((X,Y)))\n",
    "    return eeg,ema,eeg_ema\n",
    "\n",
    "def do_filter(data,sfreq,filter_band):\n",
    "    for i in range(0,len(data)):\n",
    "        filt = mne.filter.filter_data(data[i],sfreq,filter_band[0], filter_band[1], \n",
    "                                      method = 'iir',n_jobs=1,\n",
    "                           iir_params = dict(order=4, ftype='butter', output='sos'),\n",
    "                                      verbose ='ERROR')\n",
    "        data[i] = filt\n",
    "\n",
    "    return data\n",
    "        \n",
    "def select_portion_applyDelay(data,remove_first,d,sfreq,apply_delay):\n",
    "    \n",
    "    rs = 0.5*sfreq\n",
    "    dd = d*sfreq\n",
    "    L = []\n",
    "    trial_no = len(data)\n",
    "    eeg=[]\n",
    "    ema=[]\n",
    "    for tr in range(0,trial_no):\n",
    "        # remove first from the begining\n",
    "        aa = data[tr][:,int((remove_first)*sfreq):]\n",
    "        \n",
    "        if(apply_delay):\n",
    "            trial_len = aa.shape[1] - 1*sfreq\n",
    "\n",
    "            start_i = round(dd)\n",
    "            end_i = round(dd+trial_len)\n",
    "            start_s = round(rs)\n",
    "            end_s = round(rs+trial_len)\n",
    "\n",
    "            E = aa[0:59,int(start_i):int(end_i)]\n",
    "            S = aa[-7:,int(start_s):int(end_s)]\n",
    "        else:\n",
    "            E = aa[0:59,:]\n",
    "            S = aa[-7:,:]\n",
    "        \n",
    "        eeg.append(E)\n",
    "        ema.append(S)\n",
    "        L.append(S.shape[1])\n",
    "        \n",
    "    return eeg,ema,np.asarray(L)\n",
    "\n",
    "def prepare_CCA_dataformat(eeg,ema,temporal_aperature,L,features):\n",
    "    \n",
    "    aa = np.hstack(ema)\n",
    "    aa = stats.zscore(aa, axis=1)\n",
    "    if(features=='envelop'):\n",
    "        aa = aa[0,:]\n",
    "    else:\n",
    "        aa = aa[1:,:]\n",
    "    mark_bad_trial = []\n",
    "    X = []\n",
    "    \n",
    "    for t in range(0,len(ema)):\n",
    "        a = aa[:,0:L[t]]\n",
    "        #print(a.shape)\n",
    "        tmp =[]\n",
    "        for i in range(0,a.shape[0]):\n",
    "            x = toeplitz(a[i,:])\n",
    "            y= np.tril(np.ones((x.shape[0], x.shape[0]), dtype=int))\n",
    "            x = x*y\n",
    "            tmp.append(x[:,0:temporal_aperature])\n",
    "        tmp = np.hstack(tmp)\n",
    "        \n",
    "        if(tmp.shape[1]==aa.shape[0]*temporal_aperature):\n",
    "            tmp = np.hstack((tmp,np.ones((tmp.shape[0],1))))\n",
    "            X.append(tmp) \n",
    "        else:\n",
    "            mark_bad_trial.append(t)\n",
    "\n",
    "        aa = aa[:,a.shape[1]:]\n",
    "\n",
    "    ema = np.vstack(X)\n",
    "    \n",
    "    mark_bad_trial = np.asarray(mark_bad_trial)\n",
    "    eeg_ = []\n",
    "    for e in range(0,len(eeg)):\n",
    "        if not(np.isin(e,mark_bad_trial)):        \n",
    "            eeg_.append(eeg[e])\n",
    "\n",
    "    eeg = np.hstack(eeg_)\n",
    "    \n",
    "    return eeg,ema.T,X,eeg_,mark_bad_trial"
   ]
  },
  {
   "cell_type": "code",
   "execution_count": 4,
   "metadata": {
    "code_folding": [
     0
    ]
   },
   "outputs": [],
   "source": [
    "# (greater than) trial_len and concat all the subjects in one delay\n",
    "EEG = []\n",
    "EMA = []\n",
    "frame=[]\n",
    "for s in range(0,len(subject_name)):\n",
    "    raw_fname = data_path + '/python/data/rawEEG/'+subject_name[s]+'_raw.fif'\n",
    "    raw = mne.io.read_raw_fif(raw_fname,preload=True)\n",
    "\n",
    "    a = os.path.dirname(os.path.dirname(os.path.dirname(os.getcwd())))\n",
    "    raw_fname = a +'/exp/data/matlab_exp_data/'+subject_name[s]+'.mat'\n",
    "    mat = scipy.io.loadmat(raw_fname)\n",
    "    trialno = mat['experiment']['media'][0,0]['permute'][0][0][0] \n",
    "\n",
    "    eeg = get_eeg(raw,mat,new_sampling_rate)\n",
    "    ema = get_EMA(mat,feat)\n",
    "    A = eeg.merge(ema,on='trialno')\n",
    "\n",
    "    #take only the correct response\n",
    "    A = A[A['response']==0]\n",
    "\n",
    "    # select trial length\n",
    "    B = A[A['Trial_len']>=trial_len]\n",
    "\n",
    "    # align both data\n",
    "    eeg,ema,eeg_ema = align_data(B)\n",
    "    \n",
    "    # apply filter \n",
    "    if(apply_filter):\n",
    "        eeg_ema = do_filter(eeg_ema,new_sampling_rate,filter_band)\n",
    "    \n",
    "    #select portion with delay if any\n",
    "    eeg,ema,L = select_portion_applyDelay(eeg_ema,remove_first,delay[0]+0.5,\n",
    "                                          new_sampling_rate,apply_delay)\n",
    "    \n",
    "    #prepare for CCA\n",
    "    eeg,ema,_,_,_, = prepare_CCA_dataformat(eeg,ema,temporal_aperature,L,features)\n",
    "    \n",
    "    EEG.append(eeg)\n",
    "    EMA.append(ema)\n",
    "    frame.append(eeg.shape[1])\n",
    "\n",
    "EEG = np.hstack(EEG)    \n",
    "EMA = np.hstack(EMA) "
   ]
  },
  {
   "cell_type": "code",
   "execution_count": null,
   "metadata": {},
   "outputs": [],
   "source": []
  },
  {
   "cell_type": "code",
   "execution_count": 26,
   "metadata": {
    "code_folding": [
     0,
     4
    ]
   },
   "outputs": [
    {
     "ename": "TypeError",
     "evalue": "slice indices must be integers or None or have an __index__ method",
     "output_type": "error",
     "traceback": [
      "\u001b[1;31m---------------------------------------------------------------------------\u001b[0m",
      "\u001b[1;31mTypeError\u001b[0m                                 Traceback (most recent call last)",
      "\u001b[1;32m<ipython-input-26-1422d6a44310>\u001b[0m in \u001b[0;36m<module>\u001b[1;34m\u001b[0m\n\u001b[0;32m      5\u001b[0m \u001b[1;32mfor\u001b[0m \u001b[0ms\u001b[0m \u001b[1;32min\u001b[0m \u001b[0mrange\u001b[0m\u001b[1;33m(\u001b[0m\u001b[1;36m0\u001b[0m\u001b[1;33m,\u001b[0m\u001b[0mlen\u001b[0m\u001b[1;33m(\u001b[0m\u001b[0msubject_name\u001b[0m\u001b[1;33m)\u001b[0m\u001b[1;33m)\u001b[0m\u001b[1;33m:\u001b[0m\u001b[1;33m\u001b[0m\u001b[0m\n\u001b[0;32m      6\u001b[0m     \u001b[1;32mif\u001b[0m\u001b[1;33m(\u001b[0m\u001b[0ms\u001b[0m\u001b[1;33m==\u001b[0m\u001b[1;36m0\u001b[0m\u001b[1;33m)\u001b[0m\u001b[1;33m:\u001b[0m\u001b[1;33m\u001b[0m\u001b[0m\n\u001b[1;32m----> 7\u001b[1;33m         \u001b[0mu\u001b[0m\u001b[1;33m=\u001b[0m\u001b[0mU\u001b[0m\u001b[1;33m[\u001b[0m\u001b[1;33m:\u001b[0m\u001b[1;33m,\u001b[0m\u001b[1;36m0\u001b[0m\u001b[1;33m:\u001b[0m\u001b[0mframe\u001b[0m\u001b[1;33m[\u001b[0m\u001b[0ms\u001b[0m\u001b[1;33m]\u001b[0m\u001b[1;33m]\u001b[0m\u001b[1;33m\u001b[0m\u001b[0m\n\u001b[0m\u001b[0;32m      8\u001b[0m         \u001b[0mv\u001b[0m\u001b[1;33m=\u001b[0m\u001b[0mV\u001b[0m\u001b[1;33m[\u001b[0m\u001b[1;33m:\u001b[0m\u001b[1;33m,\u001b[0m\u001b[1;36m0\u001b[0m\u001b[1;33m:\u001b[0m\u001b[0mframe\u001b[0m\u001b[1;33m[\u001b[0m\u001b[0ms\u001b[0m\u001b[1;33m]\u001b[0m\u001b[1;33m]\u001b[0m\u001b[1;33m\u001b[0m\u001b[0m\n\u001b[0;32m      9\u001b[0m     \u001b[1;32melse\u001b[0m\u001b[1;33m:\u001b[0m\u001b[1;33m\u001b[0m\u001b[0m\n",
      "\u001b[1;31mTypeError\u001b[0m: slice indices must be integers or None or have an __index__ method"
     ]
    }
   ],
   "source": [
    "# cca train \n",
    "A,B,rhos,pvals,U,V,Rxx,Ryy = myCannoncorr(EMA,EEG,Kx,Ky)\n",
    "\n",
    "X=[]\n",
    "for s in range(0,len(subject_name)):\n",
    "    if(s==0):\n",
    "        u=U[:,0:frame[s]]\n",
    "        v=V[:,0:frame[s]]\n",
    "    else:\n",
    "        u=U[:,frame[s-1]:frame[s-1]+frame[s]]\n",
    "        v=V[:,frame[s-1]:frame[s-1]+frame[s]]\n",
    "\n",
    "    nVars= np.min((u.shape[0],v.shape[0]))\n",
    "    rhos = np.zeros((nVars,1))\n",
    "    pvals = np.zeros((nVars,1))\n",
    "\n",
    "    for i in range(0,nVars):\n",
    "        r,p = stats.pearsonr(u[i,:],v[i,:])\n",
    "        rhos[i] = r\n",
    "        pvals[i] = p\n",
    "        \n",
    "    df = pd.DataFrame({'subject':subject_name[s],'Delay':delay,'A':[A],'B':[B],'r':[rhos],\n",
    "                   'p':[pvals],'U':[u],'V':[v],'Rxx':[Rxx],'Ryy':[Ryy]})\n",
    "    \n",
    "    X.append(df)\n",
    "    print(subject_name[s])\n",
    "\n",
    "data_CCA = pd.concat((X),axis=0)\n",
    "save_path = data_path + '/python/data/cca/'+save_name+'.pkl'\n",
    "data_CCA.to_pickle(save_path)\n",
    "\n",
    "clear_output()\n",
    "\n",
    "\n"
   ]
  },
  {
   "cell_type": "code",
   "execution_count": 29,
   "metadata": {},
   "outputs": [
    {
     "data": {
      "text/plain": [
       "3"
      ]
     },
     "execution_count": 29,
     "metadata": {},
     "output_type": "execute_result"
    }
   ],
   "source": [
    "Ky"
   ]
  },
  {
   "cell_type": "code",
   "execution_count": null,
   "metadata": {},
   "outputs": [],
   "source": []
  },
  {
   "cell_type": "code",
   "execution_count": null,
   "metadata": {
    "code_folding": [
     0
    ]
   },
   "outputs": [],
   "source": [
    "# concat all the subjects in one delay (surrogate)\n",
    "\n",
    "save_name = save_name + '_surrogate'\n",
    "\n",
    "eeg_channles = GA_epoches[0].ch_names[0:59]\n",
    "sfreq = GA_epoches[0].info['sfreq']\n",
    "\n",
    "###########################\n",
    "for surr in range(0,no_surrogate):\n",
    "    frame = []\n",
    "    EEG = []\n",
    "    EMA = []\n",
    "    for s in range(0,len(subject_name)):\n",
    "        for d in delay:\n",
    "            eeg,ema = coherence_preprocess_delay(GA_epoches[s],remove_first,d+0.5,trial_len,features,eeg_channles,con)    \n",
    "            np.random.shuffle(eeg)\n",
    "            np.random.shuffle(ema)\n",
    "            eeg,ema = restructure_data(eeg,ema,temporal_aperature)\n",
    "            EEG.append(eeg)\n",
    "            EMA.append(ema)\n",
    "            frame.append(eeg.shape[1])\n",
    "\n",
    "    EEG = np.hstack(EEG)    \n",
    "    EMA = np.hstack(EMA)     \n",
    "\n",
    "\n",
    "    # cca train \n",
    "    A,B,rhos,pvals,U,V,Rxx,Ryy = myCannoncorr(EMA,EEG,Kx,Ky)\n",
    "    \n",
    "    \n",
    "\n",
    "    X=[]\n",
    "    for s in range(0,len(subject_name)):\n",
    "        if(s==0):\n",
    "            u=U[:,0:frame[s]]\n",
    "            v=V[:,0:frame[s]]\n",
    "        else:\n",
    "            u=U[:,frame[s-1]:frame[s-1]+frame[s]]\n",
    "            v=V[:,frame[s-1]:frame[s-1]+frame[s]]\n",
    "\n",
    "        nVars= np.min((u.shape[0],v.shape[0]))\n",
    "        rhos = np.zeros((nVars,1))\n",
    "        pvals = np.zeros((nVars,1))\n",
    "\n",
    "        for i in range(0,nVars):\n",
    "            r,p = stats.pearsonr(u[i,:],v[i,:])\n",
    "            rhos[i] = r\n",
    "            pvals[i] = p\n",
    "\n",
    "        df = pd.DataFrame({'subject':subject_name[s],'Delay':delay,'A':[A],'B':[B],'r':[rhos],\n",
    "                       'p':[pvals],'U':[u],'V':[v],'Rxx':[Rxx],'Ryy':[Ryy]})\n",
    "\n",
    "        X.append(df)\n",
    "        print(subject_name[s]+'-'+str(surr))\n",
    "    data_CCA = pd.concat((X),axis=0)\n",
    "    save_path = data_path + '/python/data/cca/surrogate/'+save_name+str(surr)+'.pkl'\n",
    "    data_CCA.to_pickle(save_path)\n",
    "    clear_output()"
   ]
  },
  {
   "cell_type": "code",
   "execution_count": null,
   "metadata": {},
   "outputs": [],
   "source": []
  },
  {
   "cell_type": "code",
   "execution_count": null,
   "metadata": {},
   "outputs": [],
   "source": []
  },
  {
   "cell_type": "markdown",
   "metadata": {},
   "source": [
    "# --------------------------------------------------------------------------"
   ]
  },
  {
   "cell_type": "code",
   "execution_count": null,
   "metadata": {
    "code_folding": [
     0
    ],
    "scrolled": true
   },
   "outputs": [],
   "source": [
    "# read epoches\n",
    "Tmin = 0\n",
    "Tmax = 3.51\n",
    "trial_len = 2\n",
    "remove_first = 0.5 #seconds\n",
    "\n",
    "GA_epoches = []\n",
    "for s in subject_name:\n",
    "    save_path = data_path + '/python/data/coherence_epochs/'+s+'-coh-epo-'+str(Tmin)+'-' \\\n",
    "    +str(Tmax)+'-trialLen-'+str(trial_len)+'_normalized.fif'\n",
    "    a = mne.read_epochs(save_path)\n",
    "    GA_epoches.append(a)\n",
    "    \n",
    "    # save matlab files for yannis matlab analysis\n",
    "    #save_path = data_path + '/python/matlab_CCA/data/'+s+'.mat'\n",
    "    #scipy.io.savemat(save_path, {'data':a.get_data(),'label':a.ch_names})\n",
    "\n",
    "    print('----------------------------------------------------------------------------------------------------------------'+s)\n",
    "clear_output()"
   ]
  },
  {
   "cell_type": "code",
   "execution_count": null,
   "metadata": {
    "code_folding": [
     0
    ]
   },
   "outputs": [],
   "source": [
    "# resample the data to new_sampling_rate\n",
    "\n",
    "for s in range(0,len(subject_name)):\n",
    "    GA_epoches[s].resample(new_sampling_rate, npad='auto')\n"
   ]
  },
  {
   "cell_type": "markdown",
   "metadata": {},
   "source": [
    "# 2sec"
   ]
  },
  {
   "cell_type": "markdown",
   "metadata": {},
   "source": [
    "use same amount of data common to all trials (here 2sec) <br>\n"
   ]
  },
  {
   "cell_type": "code",
   "execution_count": null,
   "metadata": {
    "code_folding": [
     0,
     2,
     20
    ]
   },
   "outputs": [],
   "source": [
    "# 2sec trial functions\n",
    "\n",
    "def coherence_preprocess_delay(epochs,remove_first,d,trial_len,extra_channels,eeg_channles,condition):\t\n",
    "\n",
    "    if condition != 'All':\n",
    "        E = epochs[condition].copy()\n",
    "    else:\n",
    "        E = epochs.copy()\n",
    "        \n",
    "    eeg = E.copy().pick_channels(eeg_channles)\n",
    "    speech = E.copy().pick_channels(extra_channels)\n",
    "\n",
    "    E = eeg.copy().crop(d+remove_first,d+remove_first+trial_len)\n",
    "    S = speech.copy().crop(0.5+remove_first,0.5+remove_first+trial_len)\n",
    "    \n",
    "    #E = eeg.copy().crop(0.5+remove_first,0.5+remove_first+trial_len)\n",
    "    #S = speech.copy().crop(d+remove_first,d+remove_first+trial_len)\n",
    "        \n",
    "    return E.get_data(),S.get_data()\n",
    "\n",
    "def restructure_data(eeg,ema,temporal_aperature):\n",
    "    eeg = np.hstack(eeg)\n",
    "\n",
    "    x = np.hstack(ema)\n",
    "    x = stats.zscore(x, axis=1)\n",
    "    ema = np.stack(np.split(x, ema.shape[0], axis=1))\n",
    "\n",
    "    X = []\n",
    "    for t in range(0,ema.shape[0]):\n",
    "        a = ema[t,:,:]\n",
    "        tmp =[]\n",
    "        for i in range(0,a.shape[0]):\n",
    "            x = toeplitz(a[i,:])\n",
    "            y= np.tril(np.ones((x.shape[0], x.shape[0]), dtype=int))\n",
    "            x = x*y\n",
    "            tmp.append(x[:,0:temporal_aperature])\n",
    "        tmp = np.hstack(tmp)   \n",
    "        X.append(tmp) \n",
    "\n",
    "    X = np.vstack(X)\n",
    "    ema = np.hstack((X,np.ones((X.shape[0],1))))\n",
    "\n",
    "    return eeg,ema.T\n"
   ]
  },
  {
   "cell_type": "code",
   "execution_count": null,
   "metadata": {},
   "outputs": [],
   "source": []
  },
  {
   "cell_type": "code",
   "execution_count": null,
   "metadata": {
    "code_folding": [
     0
    ]
   },
   "outputs": [],
   "source": [
    "# select data (2sec)\n",
    "\n",
    "eeg_channles = GA_epoches[0].ch_names[0:59]\n",
    "sfreq = GA_epoches[0].info['sfreq']\n",
    "\n",
    "\n",
    "###########################\n",
    "\n",
    "\n",
    "frame = []\n",
    "for s in range(0,len(subject_name)):\n",
    "    for d in delay:\n",
    "        eeg,ema = coherence_preprocess_delay(GA_epoches[s],remove_first,d+0.5,trial_len,features,eeg_channles,con)    \n",
    "        eeg,ema = restructure_data(eeg,ema,temporal_aperature)\n",
    "        \n",
    "        # cca train \n",
    "        A,B,rhos,pvals,U,V,Rxx,Ryy = myCannoncorr(ema,eeg,Kx,Ky)\n",
    "\n",
    "        \n",
    "\n",
    "    \n",
    "        df = pd.DataFrame({'subject':subject_name[s],'Delay':d,'A':[A],'B':[B],'r':[rhos],\n",
    "                           'p':[pvals],'U':[U],'V':[V],'Rxx':[Rxx],'Ryy':[Ryy]})\n",
    "        frame.append(df)\n",
    "        print(str(d)+'-'+subject_name[s])\n",
    "\n",
    "    #df = pd.concat((frame),axis=0)\n",
    "        \n",
    "        \n",
    "data_CCA = pd.concat((frame),axis=0)\n",
    "save_path = data_path + '/python/data/cca/cca_yannis_2sec_envelop.pkl'\n",
    "#save_path = data_path + '/python/data/cca/cca_yannis_2sec'+str(fmin)+'-'+str(fmax)+'.pkl'\n",
    "data_CCA.to_pickle(save_path)\n",
    "\n",
    "clear_output()"
   ]
  },
  {
   "cell_type": "markdown",
   "metadata": {},
   "source": [
    "use same amount of data common to all trials (here 2sec) concat all the subjects in one delay"
   ]
  },
  {
   "cell_type": "code",
   "execution_count": null,
   "metadata": {
    "code_folding": [
     0
    ]
   },
   "outputs": [],
   "source": [
    "# select data (2sec) concat all the subjects in one delay\n",
    "\n",
    "eeg_channles = GA_epoches[0].ch_names[0:59]\n",
    "sfreq = GA_epoches[0].info['sfreq']\n",
    "\n",
    "###########################\n",
    "\n",
    "frame = []\n",
    "EEG = []\n",
    "EMA = []\n",
    "for s in range(0,len(subject_name)):\n",
    "    for d in delay:\n",
    "        eeg,ema = coherence_preprocess_delay(GA_epoches[s],remove_first,d+0.5,trial_len,features,eeg_channles,con)    \n",
    "        eeg,ema = restructure_data(eeg,ema,temporal_aperature)\n",
    "        EEG.append(eeg)\n",
    "        EMA.append(ema)\n",
    "        frame.append(eeg.shape[1])\n",
    "        \n",
    "EEG = np.hstack(EEG)    \n",
    "EMA = np.hstack(EMA)     \n",
    "\n",
    "\n",
    "# cca train \n",
    "A,B,rhos,pvals,U,V,Rxx,Ryy = myCannoncorr(EMA,EEG,Kx,Ky)\n",
    "\n",
    "X=[]\n",
    "for s in range(0,len(subject_name)):\n",
    "    if(s==0):\n",
    "        u=U[:,0:frame[s]]\n",
    "        v=V[:,0:frame[s]]\n",
    "    else:\n",
    "        u=U[:,frame[s-1]:frame[s-1]+frame[s]]\n",
    "        v=V[:,frame[s-1]:frame[s-1]+frame[s]]\n",
    "\n",
    "    nVars= np.min((u.shape[0],v.shape[0]))\n",
    "    rhos = np.zeros((nVars,1))\n",
    "    pvals = np.zeros((nVars,1))\n",
    "\n",
    "    for i in range(0,nVars):\n",
    "        r,p = stats.pearsonr(u[i,:],v[i,:])\n",
    "        rhos[i] = r\n",
    "        pvals[i] = p\n",
    "        \n",
    "    df = pd.DataFrame({'subject':subject_name[s],'Delay':delay,'A':[A],'B':[B],'r':[rhos],\n",
    "                   'p':[pvals],'U':[u],'V':[v],'Rxx':[Rxx],'Ryy':[Ryy]})\n",
    "    \n",
    "    X.append(df)\n",
    "    print(subject_name[s])\n",
    "\n",
    "data_CCA = pd.concat((X),axis=0)\n",
    "save_path = data_path + '/python/data/cca/'+save_name+'.pkl'\n",
    "data_CCA.to_pickle(save_path)\n",
    "clear_output()"
   ]
  },
  {
   "cell_type": "code",
   "execution_count": null,
   "metadata": {},
   "outputs": [],
   "source": []
  },
  {
   "cell_type": "code",
   "execution_count": null,
   "metadata": {
    "code_folding": [
     0
    ]
   },
   "outputs": [],
   "source": [
    "# select data (2sec) concat all the subjects in one delay (surrogate)\n",
    "\n",
    "save_name = save_name + '_surrogate'\n",
    "\n",
    "eeg_channles = GA_epoches[0].ch_names[0:59]\n",
    "sfreq = GA_epoches[0].info['sfreq']\n",
    "\n",
    "###########################\n",
    "for surr in range(0,no_surrogate):\n",
    "    frame = []\n",
    "    EEG = []\n",
    "    EMA = []\n",
    "    for s in range(0,len(subject_name)):\n",
    "        for d in delay:\n",
    "            eeg,ema = coherence_preprocess_delay(GA_epoches[s],remove_first,d+0.5,trial_len,features,eeg_channles,con)    \n",
    "            np.random.shuffle(eeg)\n",
    "            np.random.shuffle(ema)\n",
    "            eeg,ema = restructure_data(eeg,ema,temporal_aperature)\n",
    "            EEG.append(eeg)\n",
    "            EMA.append(ema)\n",
    "            frame.append(eeg.shape[1])\n",
    "\n",
    "    EEG = np.hstack(EEG)    \n",
    "    EMA = np.hstack(EMA)     \n",
    "\n",
    "\n",
    "    # cca train \n",
    "    A,B,rhos,pvals,U,V,Rxx,Ryy = myCannoncorr(EMA,EEG,Kx,Ky)\n",
    "    \n",
    "    \n",
    "\n",
    "    X=[]\n",
    "    for s in range(0,len(subject_name)):\n",
    "        if(s==0):\n",
    "            u=U[:,0:frame[s]]\n",
    "            v=V[:,0:frame[s]]\n",
    "        else:\n",
    "            u=U[:,frame[s-1]:frame[s-1]+frame[s]]\n",
    "            v=V[:,frame[s-1]:frame[s-1]+frame[s]]\n",
    "\n",
    "        nVars= np.min((u.shape[0],v.shape[0]))\n",
    "        rhos = np.zeros((nVars,1))\n",
    "        pvals = np.zeros((nVars,1))\n",
    "\n",
    "        for i in range(0,nVars):\n",
    "            r,p = stats.pearsonr(u[i,:],v[i,:])\n",
    "            rhos[i] = r\n",
    "            pvals[i] = p\n",
    "\n",
    "        df = pd.DataFrame({'subject':subject_name[s],'Delay':delay,'A':[A],'B':[B],'r':[rhos],\n",
    "                       'p':[pvals],'U':[u],'V':[v],'Rxx':[Rxx],'Ryy':[Ryy]})\n",
    "\n",
    "        X.append(df)\n",
    "        print(subject_name[s]+'-'+str(surr))\n",
    "    data_CCA = pd.concat((X),axis=0)\n",
    "    save_path = data_path + '/python/data/cca/surrogate/'+save_name+str(surr)+'.pkl'\n",
    "    data_CCA.to_pickle(save_path)\n",
    "    clear_output()"
   ]
  },
  {
   "cell_type": "markdown",
   "metadata": {},
   "source": [
    "# whole trial"
   ]
  },
  {
   "cell_type": "markdown",
   "metadata": {},
   "source": [
    "use all trial length (longer trial will have more contribution)\n"
   ]
  },
  {
   "cell_type": "code",
   "execution_count": null,
   "metadata": {
    "code_folding": [
     0,
     1,
     68,
     101,
     143
    ]
   },
   "outputs": [],
   "source": [
    "# whole trial functions\n",
    "def epoch(raw, mat,Tmin, Tmax):\n",
    "    # ignore stimuli shorter than tmax ms\n",
    "    events = mne.find_events(raw, stim_channel='Trigger')\n",
    "    reference_id = 105  # speech onset\n",
    "    target_id = 106  # speech offset\n",
    "    sfreq = raw.info['sfreq']  # sampling rate\n",
    "    tmin = 0  \n",
    "    new_id = 99  # the new event id for a hit. If None, reference_id is used.\n",
    "    fill_na = 105  # the fill value for misses\n",
    "    events_, lag = define_target_events(events, reference_id, target_id,sfreq, tmin, Tmax, new_id, fill_na)\n",
    "    events_  = np.where(events_[:,2] == 105)[0] +1\n",
    "\n",
    "\n",
    "    #behaviour (remove the wrong answer trials and seperate the in three conditions)\t\n",
    "    condition= mat['behaviour']['condition'][0]\n",
    "    response= mat['behaviour']['response'][0]\n",
    "    a = np.hstack((condition[0],response[0]))\n",
    "\n",
    "    df = pd.DataFrame({'condition':a[:,0],'response':a[:,1]})\n",
    "    df.index = df.index + 1\n",
    "\n",
    "    hyper  = df.loc[(df['condition'] == 1) & (df['response'] == 0)]\n",
    "    normal = df.loc[(df['condition'] == 2) & (df['response'] == 0)]\n",
    "    hypo   = df.loc[(df['condition'] == 3) & (df['response'] == 0)]\n",
    "\n",
    "    events = mne.find_events(raw, stim_channel='trial_no')\n",
    "    hyper = np.intersect1d(events_, hyper.index.values)\n",
    "    normal = np.intersect1d(events_, normal.index.values)\n",
    "    hypo = np.intersect1d(events_, hypo.index.values)\n",
    "\n",
    "    a = np.concatenate((hyper,normal,hypo),axis=0)\n",
    "    IDX = np.sort(a, axis=0) -1\n",
    "\n",
    "    hyper = events[hyper-1]\n",
    "    hyper[:,2] = 1\n",
    "    normal = events[normal-1]\n",
    "    normal[:,2] = 2\n",
    "    hypo = events[hypo-1]\n",
    "    hypo[:,2] = 3\n",
    "    a = np.vstack((hyper,normal,hypo))\n",
    "    events = np.sort(a, axis=0)\n",
    "    \n",
    "    ##########\n",
    "    \n",
    "    #add EMA, envelop signal as extra channels\n",
    "    extra_channels = ['envelop','jawaopening','lipaparature','lipProtrusion','TTCD','TMCD','TBCD']\n",
    "    envelop = mat['behaviour']['envelop'][0][0]\n",
    "    jawaopening = mat['behaviour']['jawaopening'][0][0]\n",
    "    lipaparature = mat['behaviour']['lipaparature'][0][0]\n",
    "    lipProtrusion = mat['behaviour']['lipProtrusion'][0][0]\n",
    "    TTCD = mat['behaviour']['TTCD'][0][0]\n",
    "    TMCD = mat['behaviour']['TMCD'][0][0]\n",
    "    TBCD = mat['behaviour']['TBCD'][0][0]\n",
    "    phonemeRate = mat['behaviour']['phonemeRate'][0][0]\n",
    "    phonemeDuration = mat['behaviour']['phonemeDuration'][0][0]\n",
    "\n",
    "    A = []\n",
    "    B = []\n",
    "    for i in range(0,len(IDX)):\n",
    "        a = np.vstack((envelop[IDX[i]][0],jawaopening[IDX[i]][0].T,lipaparature[IDX[i]][0].T,lipProtrusion[IDX[i]][0].T,\n",
    "                       TTCD[IDX[i]][0].T,TMCD[IDX[i]][0].T,TBCD[IDX[i]][0].T))\n",
    "        A.append(a)\n",
    "        a = np.hstack((phonemeRate[IDX[i]][0][0][0],phonemeDuration[IDX[i]][0][0][0]))\n",
    "        B.append(a)\n",
    "        \n",
    "    return events,A,np.stack(B)\n",
    "\n",
    "def restructure_data(raw,events,EMA):\n",
    "    events_ = mne.find_events(raw, stim_channel='Trigger')\n",
    "    a = events_[np.where(events_[:,2] == 105)[0],0]\n",
    "    b = events_[np.where(events_[:,2] == 106)[0],0]\n",
    "\n",
    "    c = np.in1d(a,events[:,0])\n",
    "    a = a[c] - raw.first_samp\n",
    "    b = b[c] - raw.first_samp\n",
    "\n",
    "    A = raw.get_data()\n",
    "    B=[]\n",
    "    for i in range(0,len(a)):\n",
    "        c = signal.decimate(A[0:59,a[i]:b[i]], 10) # decimate to 200 hz 1000/100 =10\n",
    "        d = signal.decimate(EMA[i], 4) # decimate to 200 hz 400/100 = 4\n",
    "\n",
    "        #c = A[0:59,a[i]:b[i]]\n",
    "        #d = EMA[i]\n",
    "        if(c.shape[1]>d.shape[1]):\n",
    "            x = np.pad(d,((0,0),(0,c.shape[1]-d.shape[1])), 'constant')\n",
    "            x = np.vstack((c,x))\n",
    "        elif(c.shape[1]<d.shape[1]):\n",
    "            x = np.pad(c,((0,0),(0,d.shape[1]-c.shape[1])), 'constant')\n",
    "            x = np.vstack((x,d))\n",
    "        else:\n",
    "            x = np.vstack((c,d))\n",
    "        B.append(x)\n",
    "    clear_output()\n",
    "    \n",
    "    x = np.column_stack(B)\n",
    "    eeg = x[0:59,:]\n",
    "    ema = x[60:66,:]\n",
    "    return B\n",
    "\n",
    "def restructure_data2(eeg,ema,temporal_aperature,L,features):\n",
    "    \n",
    "    aa = np.hstack(ema)\n",
    "    aa = stats.zscore(aa, axis=1)\n",
    "    if(features=='envelop'):\n",
    "        aa = aa[0,:]\n",
    "    else:\n",
    "        aa = aa[1:,:]\n",
    "    mark_bad_trial = []\n",
    "    X = []\n",
    "    \n",
    "    for t in range(0,len(ema)):\n",
    "        a = aa[:,0:L[t]]\n",
    "        #print(a.shape)\n",
    "        tmp =[]\n",
    "        for i in range(0,a.shape[0]):\n",
    "            x = toeplitz(a[i,:])\n",
    "            y= np.tril(np.ones((x.shape[0], x.shape[0]), dtype=int))\n",
    "            x = x*y\n",
    "            tmp.append(x[:,0:temporal_aperature])\n",
    "        tmp = np.hstack(tmp)\n",
    "\n",
    "        if(tmp.shape[1]==600):\n",
    "            tmp = np.hstack((tmp,np.ones((tmp.shape[0],1))))\n",
    "            X.append(tmp) \n",
    "        else:\n",
    "            mark_bad_trial.append(t)\n",
    "\n",
    "        aa = aa[:,a.shape[1]:]\n",
    "\n",
    "    ema = np.vstack(X)\n",
    "    \n",
    "    mark_bad_trial = np.asarray(mark_bad_trial)\n",
    "    eeg_ = []\n",
    "    for e in range(0,len(eeg)):\n",
    "        if not(np.isin(e,mark_bad_trial)):        \n",
    "            eeg_.append(eeg[e])\n",
    "\n",
    "    eeg = np.hstack(eeg_)\n",
    "    \n",
    "    return eeg,ema.T,X,eeg_,mark_bad_trial\n",
    "\n",
    "def get_data(data,remove_first,d,sfreq,one_delay):\n",
    "    \n",
    "    rs = 0.5*sfreq\n",
    "    dd = d*sfreq\n",
    "    L = []\n",
    "    trial_no = len(data)\n",
    "    eeg=[]\n",
    "    ema=[]\n",
    "    for tr in range(0,trial_no):\n",
    "\n",
    "        # remove first from the begining\n",
    "        aa = data[tr][:,int((remove_first)*sfreq):]\n",
    "        \n",
    "        if(one_delay==0):\n",
    "            trial_len = aa.shape[1] - 1*sfreq\n",
    "\n",
    "            start_i = round(dd)\n",
    "            end_i = round(dd+trial_len)\n",
    "            start_s = round(rs)\n",
    "            end_s = round(rs+trial_len)\n",
    "\n",
    "            E = aa[0:59,int(start_i):int(end_i)]\n",
    "            S = aa[-7:,int(start_s):int(end_s)]\n",
    "        elif(one_delay==1):\n",
    "            E = aa[0:59,:]\n",
    "            S = aa[-7:,:]\n",
    "        \n",
    "        eeg.append(E)\n",
    "        ema.append(S)\n",
    "        L.append(S.shape[1])\n",
    "        \n",
    "    return eeg,ema,np.asarray(L)\n"
   ]
  },
  {
   "cell_type": "code",
   "execution_count": null,
   "metadata": {},
   "outputs": [],
   "source": []
  },
  {
   "cell_type": "code",
   "execution_count": null,
   "metadata": {
    "code_folding": [
     0
    ]
   },
   "outputs": [],
   "source": [
    "# whole trial\n",
    "\n",
    "features = ['envelop','jawaopening','lipaparature','lipProtrusion','TTCD','TMCD','TBCD']\n",
    "features = ['envelop']\n",
    "d = 0\n",
    "\n",
    "###########################\n",
    "\n",
    "frame = []\n",
    "for s in range(0,len(subject_name)):\n",
    "    raw_fname = data_path + '/python/data/rawEEG/'+subject_name[s]+'_raw.fif'\n",
    "    raw = mne.io.read_raw_fif(raw_fname,preload=True)\n",
    "    raw_fname = data_path + '/behaviour/data/subject/'+subject_name[s]+'_behaviour_normalized.mat'\n",
    "    mat = scipy.io.loadmat(raw_fname)\n",
    "\n",
    "    events,EMA,phoneme_rate_dur = epoch(raw, mat,0, 1)\n",
    "    A_sub = restructure_data(raw,events,EMA)\n",
    "    \n",
    "    for d in delay:\n",
    "        \n",
    "        eeg,ema,L = get_data(A_sub,remove_first,d+0.5,new_sampling_rate,0)\n",
    "        eeg,ema = restructure_data2(eeg,ema,temporal_aperature,L,features)\n",
    "        \n",
    "        # cca train \n",
    "        A,B,rhos,pvals,U,V,Rxx,Ryy = myCannoncorr(ema,eeg,Kx,Ky)\n",
    "\n",
    "        df = pd.DataFrame({'subject':subject_name[s],'Delay':d,'A':[A],'B':[B],'r':[rhos],\n",
    "                           'p':[pvals],'U':[U],'V':[V],'Rxx':[Rxx],'Ryy':[Ryy]})\n",
    "        frame.append(df)\n",
    "        print(str(d)+'-'+subject_name[s])\n",
    "\n",
    "    #df = pd.concat((frame),axis=0)\n",
    "        \n",
    "        \n",
    "data_CCA = pd.concat((frame),axis=0)\n",
    "save_path = data_path + '/python/data/cca/cca_yannis_alltrial_envelop.pkl'\n",
    "#save_path = data_path + '/python/data/cca/cca_yannis_2sec'+str(fmin)+'-'+str(fmax)+'.pkl'\n",
    "data_CCA.to_pickle(save_path)\n",
    "clear_output()"
   ]
  },
  {
   "cell_type": "markdown",
   "metadata": {},
   "source": [
    "use all trials concat all the subjects in one delay"
   ]
  },
  {
   "cell_type": "code",
   "execution_count": null,
   "metadata": {
    "code_folding": [
     0,
     29
    ]
   },
   "outputs": [],
   "source": [
    "# whole trial concat all the subjects in one delay\n",
    "features = ['envelop','jawaopening','lipaparature','lipProtrusion','TTCD','TMCD','TBCD']\n",
    "features = ['envelop']\n",
    "\n",
    "frame = []\n",
    "EEG = []\n",
    "EMA = []\n",
    "for s in range(0,len(subject_name)):\n",
    "    raw_fname = data_path + '/python/data/rawEEG/'+subject_name[s]+'_raw.fif'\n",
    "    raw = mne.io.read_raw_fif(raw_fname,preload=True)\n",
    "    raw_fname = data_path + '/behaviour/data/subject/'+subject_name[s]+'_behaviour_normalized.mat'\n",
    "    mat = scipy.io.loadmat(raw_fname)\n",
    "\n",
    "    events,a = epoch(raw, mat,0, 1)\n",
    "    A_sub = restructure_data(raw,events,a)\n",
    "    eeg,ema,L = get_data(A_sub,remove_first,d+0.5,sfreq)\n",
    "    eeg,ema = restructure_data2(eeg,ema,temporal_aperature,L,features)\n",
    "    EEG.append(eeg)\n",
    "    EMA.append(ema)\n",
    "    frame.append(eeg.shape[1])\n",
    "        \n",
    "EEG = np.hstack(EEG)    \n",
    "EMA = np.hstack(EMA)     \n",
    "\n",
    "\n",
    "# cca train \n",
    "A,B,rhos,pvals,U,V,Rxx,Ryy = myCannoncorr(EMA,EEG,Kx,Ky)\n",
    "\n",
    "X=[]\n",
    "for s in range(0,len(subject_name)):\n",
    "    if(s==0):\n",
    "        u=U[:,0:frame[s]]\n",
    "        v=V[:,0:frame[s]]\n",
    "    else:\n",
    "        u=U[:,frame[s-1]:frame[s-1]+frame[s]]\n",
    "        v=V[:,frame[s-1]:frame[s-1]+frame[s]]\n",
    "\n",
    "    nVars= np.min((u.shape[0],v.shape[0]))\n",
    "    rhos = np.zeros((nVars,1))\n",
    "    pvals = np.zeros((nVars,1))\n",
    "\n",
    "    for i in range(0,nVars):\n",
    "        r,p = stats.pearsonr(u[i,:],v[i,:])\n",
    "        rhos[i] = r\n",
    "        pvals[i] = p\n",
    "        \n",
    "    df = pd.DataFrame({'subject':subject_name[s],'Delay':delay,'A':[A],'B':[B],'r':[rhos],\n",
    "                   'p':[pvals],'U':[u],'V':[v],'Rxx':[Rxx],'Ryy':[Ryy]})\n",
    "    \n",
    "    X.append(df)\n",
    "    print(subject_name[s])\n",
    "\n",
    "data_CCA = pd.concat((X),axis=0)\n",
    "save_path = data_path + '/python/data/cca/cca_yannis_wholetrial_envelop_concatALLsub_0delay.pkl'\n",
    "data_CCA.to_pickle(save_path)\n",
    "\n",
    "clear_output()"
   ]
  },
  {
   "cell_type": "markdown",
   "metadata": {},
   "source": [
    "# single trial cca"
   ]
  },
  {
   "cell_type": "code",
   "execution_count": null,
   "metadata": {
    "code_folding": [
     0
    ]
   },
   "outputs": [],
   "source": [
    "# single trial in one delay using all trial\n",
    "\n",
    "features = ['envelop']\n",
    "features = ['envelop','jawaopening','lipaparature','lipProtrusion','TTCD','TMCD','TBCD']\n",
    "d = 0\n",
    "\n",
    "###\n",
    "X=[]\n",
    "for s in range(0,len(subject_name)):\n",
    "    raw_fname = data_path + '/python/data/rawEEG/'+subject_name[s]+'_raw.fif'\n",
    "    raw = mne.io.read_raw_fif(raw_fname,preload=True)\n",
    "    raw_fname = data_path + '/behaviour/data/subject/'+subject_name[s]+'_behaviour_normalized.mat'\n",
    "    mat = scipy.io.loadmat(raw_fname)\n",
    "\n",
    "    events,a,phoneme_rate_dur = epoch(raw, mat,0, 1)\n",
    "    A_sub = restructure_data(raw,events,a)\n",
    "    eeg,ema,L = get_data(A_sub,remove_first,d+0.5,new_sampling_rate,1)\n",
    "    A,B,EMA,EEG,a = restructure_data2(eeg,ema,temporal_aperature,L,features)\n",
    "    phoneme_rate_dur = np.delete(phoneme_rate_dur, a,axis=0)\n",
    "    events = np.delete(events, a,axis=0)\n",
    "\n",
    "    for i in range(0,len(eeg)):        \n",
    "        # cca train \n",
    "        A,B,rhos,pvals,U,V,Rxx,Ryy = myCannoncorr(EMA[i].T,EEG[i],Kx,Ky)\n",
    "        \n",
    "        forwards,filters, tvec = get_component_topo_time(A,B,Ryy,temporal_aperature,nComp,new_sampling_rate)\n",
    "        filters = filters[0:-1,:]\n",
    "        filters = np.dstack(np.array_split(filters,filters.shape[0]/temporal_aperature,axis=0))\n",
    "        \n",
    "        frame=[]\n",
    "        a = pd.Series({'Trial':i,'subject':subject_name[s],'Delay':d,\n",
    "                       'phoneme_rate':phoneme_rate_dur[i,0],'phoneme_dur':phoneme_rate_dur[i,1],\n",
    "                      'condition':events[i,2]})   \n",
    "        frame.append(a)\n",
    "        comp_idx = nComp-1\n",
    "        for i in range(0,nComp):\n",
    "            a = pd.Series({'Component'+str(comp_idx)+'_corr':rhos[i][0],\n",
    "                           'Component'+str(comp_idx)+'_p':pvals[i][0],\n",
    "                           'Component'+str(comp_idx)+'_topo':forwards[:,i],\n",
    "                          'Component'+str(comp_idx)+'_filters':[filters[:,i,:]]})\n",
    "            frame.append(a)\n",
    "            comp_idx = comp_idx-1\n",
    "        df = pd.concat((frame),axis=0)\n",
    "        df = pd.DataFrame(df) \n",
    "        X.append(df.T)\n",
    "        print(subject_name[s])\n",
    "\n",
    "data_CCA = pd.concat((X),axis=0)\n",
    "save_path = data_path + '/python/data/cca/cca_yannis_singletrial_alltrial_0delay.pkl'\n",
    "data_CCA.to_pickle(save_path)\n",
    "\n",
    "clear_output()"
   ]
  },
  {
   "cell_type": "markdown",
   "metadata": {},
   "source": [
    "# condition separated CCA"
   ]
  },
  {
   "cell_type": "code",
   "execution_count": null,
   "metadata": {
    "code_folding": [
     0
    ]
   },
   "outputs": [],
   "source": [
    "# condition separated trial in one delay using all trial\n",
    "\n",
    "features = ['envelop']\n",
    "features = ['envelop','jawaopening','lipaparature','lipProtrusion','TTCD','TMCD','TBCD']\n",
    "d = 0\n",
    "\n",
    "###\n",
    "X=[]\n",
    "for s in range(0,len(subject_name)):\n",
    "    raw_fname = data_path + '/python/data/rawEEG/'+subject_name[s]+'_raw.fif'\n",
    "    raw = mne.io.read_raw_fif(raw_fname,preload=True)\n",
    "    raw_fname = data_path + '/behaviour/data/subject/'+subject_name[s]+'_behaviour_normalized.mat'\n",
    "    mat = scipy.io.loadmat(raw_fname)\n",
    "\n",
    "    events,a,phoneme_rate_dur = epoch(raw, mat,0, 1)\n",
    "    A_sub = restructure_data(raw,events,a)\n",
    "    eeg,ema,L = get_data(A_sub,remove_first,d+0.5,new_sampling_rate,1)\n",
    "    A,B,EMA,EEG,a = restructure_data2(eeg,ema,temporal_aperature,L,features)\n",
    "    phoneme_rate_dur = np.delete(phoneme_rate_dur, a,axis=0)\n",
    "    events = np.delete(events, a,axis=0)\n",
    "\n",
    "    for cc in range(1,4): \n",
    "        a = np.where(events[:,2]==cc)[0]\n",
    "    \n",
    "        A = []\n",
    "        B = []\n",
    "        for e in range(0,len(a)):\n",
    "            A.append(EEG[a[e]])\n",
    "            B.append(EMA[a[e]])\n",
    "\n",
    "        eeg = np.hstack(A)\n",
    "        ema = np.vstack(B)\n",
    "\n",
    "        # cca train \n",
    "        A,B,rhos,pvals,U,V,Rxx,Ryy = myCannoncorr(ema.T,eeg,Kx,Ky)\n",
    "        \n",
    "        forwards,filters, tvec = get_component_topo_time(A,B,Ryy,temporal_aperature,nComp,new_sampling_rate)\n",
    "        filters = filters[0:-1,:]\n",
    "        filters = np.dstack(np.array_split(filters,filters.shape[0]/temporal_aperature,axis=0))\n",
    "        \n",
    "        frame=[]\n",
    "        a = pd.Series({'subject':subject_name[s],'Delay':d,'condition':cc})   \n",
    "        frame.append(a)\n",
    "        comp_idx = nComp-1\n",
    "        for i in range(0,nComp):\n",
    "            a = pd.Series({'Component'+str(comp_idx)+'_corr':rhos[i][0],\n",
    "                           'Component'+str(comp_idx)+'_p':pvals[i][0],\n",
    "                           'Component'+str(comp_idx)+'_topo':forwards[:,i],\n",
    "                          'Component'+str(comp_idx)+'_filters':[filters[:,i,:]]})\n",
    "            frame.append(a)\n",
    "            comp_idx = comp_idx-1\n",
    "        df = pd.concat((frame),axis=0)\n",
    "        df = pd.DataFrame(df) \n",
    "        X.append(df.T)\n",
    "        print(subject_name[s])\n",
    "\n",
    "data_CCA = pd.concat((X),axis=0)\n",
    "save_path = data_path + '/python/data/cca/cca_yannis_bycondition_alltrial_0delay.pkl'\n",
    "data_CCA.to_pickle(save_path)\n",
    "\n",
    "clear_output()"
   ]
  },
  {
   "cell_type": "markdown",
   "metadata": {},
   "source": [
    "# ------------------------------------------------------------------------------"
   ]
  },
  {
   "cell_type": "markdown",
   "metadata": {},
   "source": [
    "# CCA Analysis"
   ]
  },
  {
   "cell_type": "markdown",
   "metadata": {},
   "source": [
    "# choosing CCA regularization parameters Kx and Ky (skip this section if already choosen)\n",
    "\n",
    "different values of them affect the results.They should not affect the extracted components very much but they usually affect the correlation values. One good way for selecting values for these parameters is to to svd to your input matrices EEG and KIN and plot the variance accounted for curve as a function of the number of eigenvalues. You then look for a \"knee\" or saturation point in the curve and choose as many svd dimensions (Kx and Ky).\n"
   ]
  },
  {
   "cell_type": "code",
   "execution_count": null,
   "metadata": {
    "code_folding": [
     0
    ]
   },
   "outputs": [],
   "source": [
    "# choosing the kx by svd [eeg]\n",
    "u,s,vh=LA.svd(eeg)\n",
    "\n",
    "#s = np.sort(s)\n",
    "# plot the eigen values and choose the knee saturation point\n",
    "plt.plot(s)\n",
    "\n",
    "# its 5 here"
   ]
  },
  {
   "cell_type": "code",
   "execution_count": 15,
   "metadata": {},
   "outputs": [
    {
     "data": {
      "text/plain": [
       "(59, 74205)"
      ]
     },
     "execution_count": 15,
     "metadata": {},
     "output_type": "execute_result"
    }
   ],
   "source": [
    "eeg.shape"
   ]
  },
  {
   "cell_type": "code",
   "execution_count": null,
   "metadata": {},
   "outputs": [],
   "source": []
  },
  {
   "cell_type": "code",
   "execution_count": null,
   "metadata": {
    "code_folding": [
     0
    ]
   },
   "outputs": [],
   "source": [
    "# choosing the ky by svd [ema]\n",
    "u1,s1,vh1=LA.svd(ema)\n",
    "plt.plot(s1)\n"
   ]
  },
  {
   "cell_type": "markdown",
   "metadata": {},
   "source": [
    "# load data"
   ]
  },
  {
   "cell_type": "code",
   "execution_count": 22,
   "metadata": {
    "code_folding": []
   },
   "outputs": [],
   "source": [
    "# load data \n",
    "###########################\n",
    "trial_len = 2 #(greater than)second \n",
    "delay = [0]\n",
    "temporal_aperature = 100\n",
    "remove_first = 0.5 #second\n",
    "Kx = 20    \n",
    "Ky = 3\n",
    "sperate_name = '_tongue'\n",
    "\n",
    "save_path = data_path + '/python/data/cca/'\\\n",
    "            +'cca_yannis_Greaterthan_'+str(trial_len)+'sec_removeFirst_'\\\n",
    "            +str(remove_first)+'concatALLsub_'+str(delay[0])\\\n",
    "            +'delay_'+str(temporal_aperature)+'temporalAperature_removeOnesub'\\\n",
    "            +'_kx-'+str(Kx)+'_ky-'+str(Ky)+sperate_name+'.pkl'\n",
    "\n",
    "plot_name = 'TrLen>'+str(trial_len)+'s_delay='+str(delay[0])\\\n",
    "            +'s_TmpAptr='+str(temporal_aperature)+'_kx-'+str(Kx)+'_ky-'+str(Ky)\n",
    "\n",
    "data_CCA = pd.read_pickle(save_path)\n"
   ]
  },
  {
   "cell_type": "code",
   "execution_count": 23,
   "metadata": {
    "code_folding": [
     0
    ],
    "collapsed": true
   },
   "outputs": [
    {
     "data": {
      "text/html": [
       "<div>\n",
       "<style scoped>\n",
       "    .dataframe tbody tr th:only-of-type {\n",
       "        vertical-align: middle;\n",
       "    }\n",
       "\n",
       "    .dataframe tbody tr th {\n",
       "        vertical-align: top;\n",
       "    }\n",
       "\n",
       "    .dataframe thead th {\n",
       "        text-align: right;\n",
       "    }\n",
       "</style>\n",
       "<table border=\"1\" class=\"dataframe\">\n",
       "  <thead>\n",
       "    <tr style=\"text-align: right;\">\n",
       "      <th></th>\n",
       "      <th>subject</th>\n",
       "      <th>Delay</th>\n",
       "      <th>Component2_corr</th>\n",
       "      <th>Component2_p</th>\n",
       "      <th>Component2_topo</th>\n",
       "      <th>Component2_filters</th>\n",
       "      <th>Component1_corr</th>\n",
       "      <th>Component1_p</th>\n",
       "      <th>Component1_topo</th>\n",
       "      <th>Component1_filters</th>\n",
       "      <th>Component0_corr</th>\n",
       "      <th>Component0_p</th>\n",
       "      <th>Component0_topo</th>\n",
       "      <th>Component0_filters</th>\n",
       "    </tr>\n",
       "  </thead>\n",
       "  <tbody>\n",
       "    <tr>\n",
       "      <th>0</th>\n",
       "      <td>Alice</td>\n",
       "      <td>0</td>\n",
       "      <td>0.00756117</td>\n",
       "      <td>0.037368</td>\n",
       "      <td>[0.02788997318937515, 0.22709063066411128, -0....</td>\n",
       "      <td>[[[0.00670833365978085, 0.018430930943901663, ...</td>\n",
       "      <td>0.0310906</td>\n",
       "      <td>1.1119e-17</td>\n",
       "      <td>[0.09084099683118975, 0.08913355143286318, 0.0...</td>\n",
       "      <td>[[[-0.002148865067338659, -0.01460243763468947...</td>\n",
       "      <td>0.046114</td>\n",
       "      <td>5.72176e-37</td>\n",
       "      <td>[0.25566948306368587, 0.2539274735335775, 0.21...</td>\n",
       "      <td>[[[-0.014924950987591527, -0.02273879909647243...</td>\n",
       "    </tr>\n",
       "    <tr>\n",
       "      <th>0</th>\n",
       "      <td>Andrea</td>\n",
       "      <td>0</td>\n",
       "      <td>-0.00306391</td>\n",
       "      <td>0.406749</td>\n",
       "      <td>[0.02788997318937515, 0.22709063066411128, -0....</td>\n",
       "      <td>[[[0.00670833365978085, 0.018430930943901663, ...</td>\n",
       "      <td>0.0194311</td>\n",
       "      <td>1.42547e-07</td>\n",
       "      <td>[0.09084099683118975, 0.08913355143286318, 0.0...</td>\n",
       "      <td>[[[-0.002148865067338659, -0.01460243763468947...</td>\n",
       "      <td>0.0414378</td>\n",
       "      <td>3.07036e-29</td>\n",
       "      <td>[0.25566948306368587, 0.2539274735335775, 0.21...</td>\n",
       "      <td>[[[-0.014924950987591527, -0.02273879909647243...</td>\n",
       "    </tr>\n",
       "    <tr>\n",
       "      <th>0</th>\n",
       "      <td>Daniel</td>\n",
       "      <td>0</td>\n",
       "      <td>-0.00170796</td>\n",
       "      <td>0.642433</td>\n",
       "      <td>[0.02788997318937515, 0.22709063066411128, -0....</td>\n",
       "      <td>[[[0.00670833365978085, 0.018430930943901663, ...</td>\n",
       "      <td>0.0217794</td>\n",
       "      <td>3.19381e-09</td>\n",
       "      <td>[0.09084099683118975, 0.08913355143286318, 0.0...</td>\n",
       "      <td>[[[-0.002148865067338659, -0.01460243763468947...</td>\n",
       "      <td>0.0388271</td>\n",
       "      <td>4.61999e-26</td>\n",
       "      <td>[0.25566948306368587, 0.2539274735335775, 0.21...</td>\n",
       "      <td>[[[-0.014924950987591527, -0.02273879909647243...</td>\n",
       "    </tr>\n",
       "    <tr>\n",
       "      <th>0</th>\n",
       "      <td>Elena</td>\n",
       "      <td>0</td>\n",
       "      <td>-0.00175555</td>\n",
       "      <td>0.633365</td>\n",
       "      <td>[0.02788997318937515, 0.22709063066411128, -0....</td>\n",
       "      <td>[[[0.00670833365978085, 0.018430930943901663, ...</td>\n",
       "      <td>0.0214875</td>\n",
       "      <td>5.25259e-09</td>\n",
       "      <td>[0.09084099683118975, 0.08913355143286318, 0.0...</td>\n",
       "      <td>[[[-0.002148865067338659, -0.01460243763468947...</td>\n",
       "      <td>0.0407075</td>\n",
       "      <td>1.85307e-28</td>\n",
       "      <td>[0.25566948306368587, 0.2539274735335775, 0.21...</td>\n",
       "      <td>[[[-0.014924950987591527, -0.02273879909647243...</td>\n",
       "    </tr>\n",
       "    <tr>\n",
       "      <th>0</th>\n",
       "      <td>Elenora</td>\n",
       "      <td>0</td>\n",
       "      <td>-0.00219277</td>\n",
       "      <td>0.548792</td>\n",
       "      <td>[0.02788997318937515, 0.22709063066411128, -0....</td>\n",
       "      <td>[[[0.00670833365978085, 0.018430930943901663, ...</td>\n",
       "      <td>0.0204782</td>\n",
       "      <td>2.14413e-08</td>\n",
       "      <td>[0.09084099683118975, 0.08913355143286318, 0.0...</td>\n",
       "      <td>[[[-0.002148865067338659, -0.01460243763468947...</td>\n",
       "      <td>0.0405797</td>\n",
       "      <td>1.25007e-28</td>\n",
       "      <td>[0.25566948306368587, 0.2539274735335775, 0.21...</td>\n",
       "      <td>[[[-0.014924950987591527, -0.02273879909647243...</td>\n",
       "    </tr>\n",
       "  </tbody>\n",
       "</table>\n",
       "</div>"
      ],
      "text/plain": [
       "   subject Delay Component2_corr Component2_p  \\\n",
       "0    Alice     0      0.00756117     0.037368   \n",
       "0   Andrea     0     -0.00306391     0.406749   \n",
       "0   Daniel     0     -0.00170796     0.642433   \n",
       "0    Elena     0     -0.00175555     0.633365   \n",
       "0  Elenora     0     -0.00219277     0.548792   \n",
       "\n",
       "                                     Component2_topo  \\\n",
       "0  [0.02788997318937515, 0.22709063066411128, -0....   \n",
       "0  [0.02788997318937515, 0.22709063066411128, -0....   \n",
       "0  [0.02788997318937515, 0.22709063066411128, -0....   \n",
       "0  [0.02788997318937515, 0.22709063066411128, -0....   \n",
       "0  [0.02788997318937515, 0.22709063066411128, -0....   \n",
       "\n",
       "                                  Component2_filters Component1_corr  \\\n",
       "0  [[[0.00670833365978085, 0.018430930943901663, ...       0.0310906   \n",
       "0  [[[0.00670833365978085, 0.018430930943901663, ...       0.0194311   \n",
       "0  [[[0.00670833365978085, 0.018430930943901663, ...       0.0217794   \n",
       "0  [[[0.00670833365978085, 0.018430930943901663, ...       0.0214875   \n",
       "0  [[[0.00670833365978085, 0.018430930943901663, ...       0.0204782   \n",
       "\n",
       "  Component1_p                                    Component1_topo  \\\n",
       "0   1.1119e-17  [0.09084099683118975, 0.08913355143286318, 0.0...   \n",
       "0  1.42547e-07  [0.09084099683118975, 0.08913355143286318, 0.0...   \n",
       "0  3.19381e-09  [0.09084099683118975, 0.08913355143286318, 0.0...   \n",
       "0  5.25259e-09  [0.09084099683118975, 0.08913355143286318, 0.0...   \n",
       "0  2.14413e-08  [0.09084099683118975, 0.08913355143286318, 0.0...   \n",
       "\n",
       "                                  Component1_filters Component0_corr  \\\n",
       "0  [[[-0.002148865067338659, -0.01460243763468947...        0.046114   \n",
       "0  [[[-0.002148865067338659, -0.01460243763468947...       0.0414378   \n",
       "0  [[[-0.002148865067338659, -0.01460243763468947...       0.0388271   \n",
       "0  [[[-0.002148865067338659, -0.01460243763468947...       0.0407075   \n",
       "0  [[[-0.002148865067338659, -0.01460243763468947...       0.0405797   \n",
       "\n",
       "  Component0_p                                    Component0_topo  \\\n",
       "0  5.72176e-37  [0.25566948306368587, 0.2539274735335775, 0.21...   \n",
       "0  3.07036e-29  [0.25566948306368587, 0.2539274735335775, 0.21...   \n",
       "0  4.61999e-26  [0.25566948306368587, 0.2539274735335775, 0.21...   \n",
       "0  1.85307e-28  [0.25566948306368587, 0.2539274735335775, 0.21...   \n",
       "0  1.25007e-28  [0.25566948306368587, 0.2539274735335775, 0.21...   \n",
       "\n",
       "                                  Component0_filters  \n",
       "0  [[[-0.014924950987591527, -0.02273879909647243...  \n",
       "0  [[[-0.014924950987591527, -0.02273879909647243...  \n",
       "0  [[[-0.014924950987591527, -0.02273879909647243...  \n",
       "0  [[[-0.014924950987591527, -0.02273879909647243...  \n",
       "0  [[[-0.014924950987591527, -0.02273879909647243...  "
      ]
     },
     "execution_count": 23,
     "metadata": {},
     "output_type": "execute_result"
    }
   ],
   "source": [
    "# arrange data\n",
    "def get_component_topo_time(A,B,Ryy,temporal_aperature,nComp,new_sampling_rate):   \n",
    "    b = B[:,0:nComp]/LA.norm(B[:,0:nComp])\n",
    "    forwards = Ryy.dot(b).dot(LA.inv(b.T.dot(Ryy).dot(b)))  # B are the spatial filters applied to the EEG\n",
    "    filters = A[:,0:nComp] # A are the filters applied to the kinematics    \n",
    "    tvec=np.arange((-temporal_aperature/2+1),(temporal_aperature/2)+1)/new_sampling_rate\n",
    "    \n",
    "    return forwards,filters, tvec\n",
    "\n",
    "C = []\n",
    "\n",
    "for s in range(0,len(subject_name)):\n",
    "    for d in delay:\n",
    "        df = data_CCA[(data_CCA['subject']==subject_name[s]) & (data_CCA['Delay']==d)]\n",
    "        A = df['A'].get_values()[0]\n",
    "        B = df['B'].get_values()[0]\n",
    "        Ryy = df['Ryy'].get_values()[0]\n",
    "        r = df['r'].get_values()[0]\n",
    "        p = df['p'].get_values()[0]\n",
    "        forwards,filters, tvec = get_component_topo_time(A,B,Ryy,temporal_aperature,nComp,new_sampling_rate)\n",
    "        filters = filters[0:-1,:]\n",
    "        filters = np.dstack(np.array_split(filters,filters.shape[0]/temporal_aperature,axis=0))\n",
    "\n",
    "        frame=[]\n",
    "        a = pd.Series({'subject':subject_name[s],'Delay':d})   \n",
    "        frame.append(a)\n",
    "        comp_idx = nComp-1\n",
    "        for i in range(0,nComp):\n",
    "            a = pd.Series({'Component'+str(comp_idx)+'_corr':r[i][0],\n",
    "                           'Component'+str(comp_idx)+'_p':p[i][0],\n",
    "                           'Component'+str(comp_idx)+'_topo':forwards[:,i],\n",
    "                          'Component'+str(comp_idx)+'_filters':[filters[:,i,:]]})\n",
    "            frame.append(a)\n",
    "            comp_idx = comp_idx-1\n",
    "        df = pd.concat((frame),axis=0)\n",
    "        df = pd.DataFrame(df) \n",
    "        C.append(df.T)\n",
    "        \n",
    "data_plot = pd.concat((C),axis=0)\n",
    "\n",
    "data_plot.head()"
   ]
  },
  {
   "cell_type": "code",
   "execution_count": null,
   "metadata": {},
   "outputs": [],
   "source": []
  },
  {
   "cell_type": "code",
   "execution_count": null,
   "metadata": {},
   "outputs": [],
   "source": []
  },
  {
   "cell_type": "code",
   "execution_count": null,
   "metadata": {},
   "outputs": [],
   "source": []
  },
  {
   "cell_type": "code",
   "execution_count": 12,
   "metadata": {
    "code_folding": [
     0,
     2,
     14,
     27,
     46,
     76,
     83
    ]
   },
   "outputs": [],
   "source": [
    "# data investigate functions\n",
    "\n",
    "def draw_heatmap(*args, **kwargs):\n",
    "    data = kwargs.pop('data')\n",
    "    x = data['Data'].any() \n",
    "    if 'mask' in data:\n",
    "        mask = data['mask'].any()\n",
    "        mne.viz.plot_topomap(x, info.info, show=False,mask = mask,cmap='RdBu_r',\n",
    "                             mask_params = dict(marker='o', markerfacecolor='k',\n",
    "                                                markeredgecolor='k',linewidth=0, markersize=5))\n",
    "    else:\n",
    "        #mne.viz.plot_topomap(x, info.info, show=False,vmin=Vmin,vmax=Vmax,cmap='RdBu_r')\n",
    "        mne.viz.plot_topomap(x, info.info, show=False,cmap='RdBu_r')\n",
    "        \n",
    "def plot_topo_image(df,vmin,vmax,typeF):\n",
    "    fg = sns.FacetGrid(df,col=typeF,margin_titles=True)\n",
    "    b = fg.map_dataframe(draw_heatmap, 'Data')\n",
    "    b = b.set_xlabels('')\n",
    "    b.fig.subplots_adjust(top=0.7)\n",
    "    b.fig.subplots_adjust(right=0.8)\n",
    "    cbar_ax = b.fig.add_axes([0.82,0.25,0.01,0.45]) # [left, bottom, width, height] \n",
    "    norm = mpl.colors.Normalize(vmin=vmin,vmax=vmax)\n",
    "    sm = plt.cm.ScalarMappable(cmap='RdBu_r', norm=norm)\n",
    "    sm.set_array([])\n",
    "    plt.colorbar(sm, ticks=np.linspace(vmin,vmax,5),cax=cbar_ax,label='weight amplitude')\n",
    "\n",
    "# plot all components topo at one delay\n",
    "def plotCCA_topo(data_plot,s,d):\n",
    "    B = data_plot[data_plot['subject']==subject_name[s]]\n",
    "\n",
    "    df = B[(B['Delay']==d)]\n",
    "\n",
    "    frame = []\n",
    "    for i in range(0,nComp):\n",
    "        a = np.stack(df['Component'+str(i)+'_topo'].get_values()).mean(axis=0)\n",
    "        a = pd.DataFrame({'Component':i,'Data':[a],'subject':s})\n",
    "        frame.append(a)\n",
    "\n",
    "    A = pd.concat((frame),axis=0)\n",
    "\n",
    "    Vmin = np.stack(A['Data'].get_values()).min()\n",
    "    Vmax = np.stack(A['Data'].get_values()).max()\n",
    "    \n",
    "    return A,Vmin,Vmax\n",
    "        \n",
    "# plot component filter\n",
    "def plotComp_filter(data_plot,s,d,tvec):\n",
    "    B = data_plot[data_plot['subject']==subject_name[s]]\n",
    "\n",
    "    df = B[(B['Delay']==d)]\n",
    "    \n",
    "    A = []\n",
    "    for i in range(0,nComp):\n",
    "        a = df['Component'+str(i)+'_filters'].get_values()[0][0]\n",
    "        A.append(a)    \n",
    "    A = np.stack(A)\n",
    "    \n",
    "    if(abs(A.min())<abs(A.max())):\n",
    "        aa = abs(A.max())\n",
    "    else:\n",
    "        aa = abs(A.min())\n",
    "            \n",
    "    f, ax = plt.subplots(figsize=(15,2))\n",
    "    for i in range(0,nComp):\n",
    "        a = A[i,:,:]\n",
    "        axx=plt.subplot(1,nComp,i+1)\n",
    "        plt.plot(tvec,a)\n",
    "        plt.title('comp= '+str(i))\n",
    "        plt.ylim([-aa,aa])\n",
    "        #axx.set_xticklabels([0.1,tvec[0],0,tvec[-1]])\n",
    "        if not(i==0):\n",
    "            plt.yticks([])        \n",
    "    \n",
    "    plt.legend(features,loc='upper center', bbox_to_anchor=(-1, 1.5),ncol=6)\n",
    "    \n",
    "# plot 1 componet in all dealy avg subjects\n",
    "def plotComp_delay(data_plot,comp):\n",
    "    df = data_plot[['Delay','subject','Component'+str(comp)+'_corr']]\n",
    "\n",
    "    #sns.lineplot(data=df,x='Delay',y='Component'+str(comp)+'_corr')\n",
    "    sns.tsplot(data=df,time='Delay',value='Component'+str(comp)+'_corr',unit='subject')    \n",
    "        \n",
    "# plot all components at delay\n",
    "def plotAllComp(data_plot,D):\n",
    "    frame = []\n",
    "    for i in range(0,nComp):\n",
    "        A = data_plot[['Delay','subject','Component'+str(i)+'_corr']]\n",
    "        A=A.rename(columns={'Component'+str(i)+'_corr':'Data'})\n",
    "        A['component']=i\n",
    "        frame.append(A)\n",
    "\n",
    "    df = pd.concat((frame),axis=0)\n",
    "\n",
    "    A = df[(df['Delay']==D)]\n",
    "\n",
    "\n",
    "    f, ax = plt.subplots(figsize=(12,8))\n",
    "\n",
    "\n",
    "    a=sns.tsplot(A,time=\"component\", condition=\"subject\",value='Data')\n",
    "    plt.xlabel('Canonical component')\n",
    "    plt.ylabel('Canonical correlation')\n",
    "    ax.set_xlim(-0.5,6)\n",
    "    return A"
   ]
  },
  {
   "cell_type": "code",
   "execution_count": null,
   "metadata": {},
   "outputs": [],
   "source": []
  },
  {
   "cell_type": "code",
   "execution_count": 13,
   "metadata": {},
   "outputs": [],
   "source": [
    "# select a delay and a subject\n",
    "D=0\n",
    "S=21"
   ]
  },
  {
   "cell_type": "code",
   "execution_count": 14,
   "metadata": {
    "collapsed": true
   },
   "outputs": [
    {
     "name": "stderr",
     "output_type": "stream",
     "text": [
      "C:\\Users\\EspVicon\\Anaconda3\\lib\\site-packages\\seaborn\\timeseries.py:183: UserWarning: The `tsplot` function is deprecated and will be removed in a future release. Please update your code to use the new `lineplot` function.\n",
      "  warnings.warn(msg, UserWarning)\n"
     ]
    },
    {
     "data": {
      "text/plain": [
       "Text(0.5, 1.0, 'TrLen>2s_delay=0s_TmpAptr=100_kx-20_ky-3')"
      ]
     },
     "execution_count": 14,
     "metadata": {},
     "output_type": "execute_result"
    },
    {
     "data": {
      "image/png": "[encoded data removed]",
      "text/plain": [
       "<Figure size 864x576 with 1 Axes>"
      ]
     },
     "metadata": {
      "needs_background": "light"
     },
     "output_type": "display_data"
    }
   ],
   "source": [
    "# plot all components and all subjects correlation score at delay\n",
    "a = plotAllComp(data_plot,D)\n",
    "plt.title(plot_name)\n"
   ]
  },
  {
   "cell_type": "code",
   "execution_count": 15,
   "metadata": {
    "scrolled": true
   },
   "outputs": [
    {
     "data": {
      "text/plain": [
       "Text(0.5, 0.98, 'TrLen>2s_delay=0s_TmpAptr=100_kx-20_ky-3')"
      ]
     },
     "execution_count": 15,
     "metadata": {},
     "output_type": "execute_result"
    },
    {
     "data": {
      "image/png": "[encoded data removed]",
      "text/plain": [
       "<Figure size 648x216 with 4 Axes>"
      ]
     },
     "metadata": {
      "needs_background": "light"
     },
     "output_type": "display_data"
    }
   ],
   "source": [
    "# plot all components topo at one delay\n",
    "A,Vmin,Vmax=plotCCA_topo(data_plot,S,D)\n",
    "plot_topo_image(A,Vmin,Vmax,'Component') \n",
    "plt.suptitle(plot_name)"
   ]
  },
  {
   "cell_type": "code",
   "execution_count": null,
   "metadata": {},
   "outputs": [],
   "source": []
  },
  {
   "cell_type": "code",
   "execution_count": 16,
   "metadata": {},
   "outputs": [
    {
     "data": {
      "text/plain": [
       "Text(0.5, 1.3, 'TrLen>2s_delay=0s_TmpAptr=100_kx-20_ky-3')"
      ]
     },
     "execution_count": 16,
     "metadata": {},
     "output_type": "execute_result"
    },
    {
     "data": {
      "image/png": "[encoded data removed]",
      "text/plain": [
       "<Figure size 1080x144 with 3 Axes>"
      ]
     },
     "metadata": {
      "needs_background": "light"
     },
     "output_type": "display_data"
    }
   ],
   "source": [
    "# plot component filter\n",
    "plotComp_filter(data_plot,S,D,tvec)\n",
    "plt.suptitle(plot_name,va='baseline',y=1.3)"
   ]
  },
  {
   "cell_type": "code",
   "execution_count": null,
   "metadata": {
    "code_folding": [
     0
    ],
    "scrolled": false
   },
   "outputs": [],
   "source": [
    "# all dealy plot topo\n",
    "delay = np.arange(-5,5.5,0.5) / 10\n",
    "# plot all components topo at one delay\n",
    "for d in delay:\n",
    "    A,Vmin,Vmax=plotCCA_topo(data_plot,S,d)\n",
    "    plot_topo_image(A,Vmin,Vmax,'Component') \n",
    "    plt.title(subject_name[S]+' delay '+str(d))"
   ]
  },
  {
   "cell_type": "code",
   "execution_count": null,
   "metadata": {
    "code_folding": [
     0
    ]
   },
   "outputs": [],
   "source": [
    "# all delay plot filter\n",
    "delay = np.arange(-5,5.5,0.5) / 10\n",
    "delay = np.arange(-5,6) / 10\n",
    "\n",
    "# plot component filter\n",
    "for d in delay:\n",
    "    plotComp_filter(data_plot,S,d)\n",
    "    plt.title(subject_name[S]+' delay '+str(d))"
   ]
  },
  {
   "cell_type": "code",
   "execution_count": null,
   "metadata": {
    "code_folding": [
     0
    ],
    "scrolled": false
   },
   "outputs": [],
   "source": [
    "# plot all subjects topo at one delay\n",
    "for s in range(0,len(subject_name)):\n",
    "    A,Vmin,Vmax=plotCCA_topo(data_plot,s,D)\n",
    "    plot_topo_image(A,Vmin,Vmax,'Component') \n",
    "    plt.title(subject_name[s])"
   ]
  },
  {
   "cell_type": "code",
   "execution_count": null,
   "metadata": {
    "code_folding": [
     0
    ]
   },
   "outputs": [],
   "source": [
    "# plot all subjects topo at one delay\n",
    "frame=[]\n",
    "for s in range(0,len(subject_name)):\n",
    "    A,Vmin,Vmax=plotCCA_topo(data_plot,s,D)\n",
    "    frame.append(A)\n",
    "    \n",
    "A=pd.concat((frame),axis=0)\n",
    "fg = sns.FacetGrid(A,col='Component',row='subject',margin_titles=True)\n",
    "b = fg.map_dataframe(draw_heatmap, 'Data')"
   ]
  },
  {
   "cell_type": "code",
   "execution_count": 47,
   "metadata": {
    "code_folding": [
     0
    ],
    "collapsed": true
   },
   "outputs": [
    {
     "data": {
      "image/png": "[encoded data removed]",
      "text/plain": [
       "<Figure size 1080x1296 with 30 Axes>"
      ]
     },
     "metadata": {
      "needs_background": "light"
     },
     "output_type": "display_data"
    }
   ],
   "source": [
    "# explore temporal filters sperately\n",
    "b = data_plot[(data_plot['subject']==subject_name[S]) & (data_plot['Delay']==D)]\n",
    "A = []\n",
    "for i in range(0,nComp):\n",
    "    a = b['Component'+str(i)+'_filters'].get_values()[0][0]\n",
    "    for f in range(0,len(features)):\n",
    "        for j in range(0,a.shape[0]):\n",
    "            df = pd.DataFrame({'Feature':features[f],'Component':i,'time':[tvec[j]],\n",
    "                               'Data':a[:,f][j]})\n",
    "            A.append(df)    \n",
    "temporal_filters = pd.concat((A),axis=0)\n",
    "\n",
    "fg = sns.FacetGrid(temporal_filters,col='Component',row='Feature',margin_titles=True)\n",
    "b = fg.map_dataframe(sns.lineplot, 'time','Data')"
   ]
  },
  {
   "cell_type": "code",
   "execution_count": null,
   "metadata": {},
   "outputs": [],
   "source": []
  },
  {
   "cell_type": "code",
   "execution_count": null,
   "metadata": {
    "code_folding": []
   },
   "outputs": [],
   "source": [
    "# plot 1 componet in all dealy avg subjects\n",
    "comp = 0\n",
    "plotComp_delay(data_plot,comp)"
   ]
  },
  {
   "cell_type": "markdown",
   "metadata": {},
   "source": [
    "# statistics"
   ]
  },
  {
   "cell_type": "markdown",
   "metadata": {},
   "source": [
    "#You can do statistics with the correlation values. One way to assess significance of these correlations is via a permutation test. You can shuffle the trials so as to break the correspondence between kinematics and EEG (the kinematics of trial 1 would be matched to the EEG of another trial - not trial 1). Do this permutation as many times as you can (e.g. 100 or 1000 times) and compute correlation values each time. Then by taking the 95 percentile of the distribution of rho values, you can assess significance of the actual rho values you already got."
   ]
  },
  {
   "cell_type": "code",
   "execution_count": null,
   "metadata": {
    "code_folding": [
     0
    ]
   },
   "outputs": [],
   "source": [
    "# get surrogate rhos and filters\n",
    "save_name = 'cca_yannis_2sec_envelop_concatALLsub_0delay_surrogate'\n",
    "save_name = 'cca_yannis_2sec_concatALLsub_0delay_surrogate'\n",
    "\n",
    "surr_r = []\n",
    "surr_filters = []\n",
    "surr_topo = []\n",
    "\n",
    "for surr in range(0,no_surrogate):\n",
    "    save_path = data_path + '/python/data/cca/surrogate/'+save_name+str(surr)+'.pkl'\n",
    "    data_CCA = pd.read_pickle(save_path)\n",
    "    \n",
    "    R = []\n",
    "    for s in range(0,len(subject_name)):\n",
    "        for d in delay:\n",
    "            df = data_CCA[(data_CCA['subject']==subject_name[s]) & (data_CCA['Delay']==d)]\n",
    "            r = df['r'].get_values()[0].flatten()\n",
    "            R.append(r)            \n",
    "    \n",
    "    # no varition accros subject as all subjects were concatenated\n",
    "    A = data_CCA['A'].get_values()[0]\n",
    "    B = data_CCA['B'].get_values()[0]\n",
    "    Ryy = data_CCA['Ryy'].get_values()[0]\n",
    "    forwards,filters, tvec = get_component_topo_time(A,B,Ryy,temporal_aperature,nComp,new_sampling_rate)\n",
    "    filters = filters[0:-1,:]\n",
    "    filters = np.dstack(np.array_split(filters,filters.shape[0]/temporal_aperature,axis=0))\n",
    "            \n",
    "    R = np.stack(R) \n",
    "    surr_r.append(R)\n",
    "    surr_filters.append(filters)\n",
    "    surr_topo.append(forwards)\n",
    "    \n",
    "surr_r = np.dstack(surr_r)\n",
    "surr_filters = np.stack(surr_filters)\n",
    "surr_topo = np.stack(surr_topo)"
   ]
  },
  {
   "cell_type": "code",
   "execution_count": null,
   "metadata": {
    "code_folding": [
     0
    ]
   },
   "outputs": [],
   "source": [
    "# significant rhos subject with components\n",
    "A = []\n",
    "for i in range(0,nComp):\n",
    "    a = data_plot['Component'+str(i)+'_corr'].get_values()    \n",
    "    A.append(a)\n",
    "\n",
    "A = np.stack(A).T\n",
    "\n",
    "a = np.percentile(surr_r,95,axis=2)\n",
    "\n",
    "sub,comp=np.where(A>=a)\n",
    "a = np.vstack((sub,comp))\n",
    "print('significant subjects and comps')\n",
    "print(a.T)\n",
    "\n",
    "\n"
   ]
  },
  {
   "cell_type": "code",
   "execution_count": null,
   "metadata": {
    "code_folding": [
     0
    ]
   },
   "outputs": [],
   "source": [
    "# significant topo\n",
    "\n",
    "# significant subject with components\n",
    "th = np.percentile(surr_topo,95,axis=0)\n",
    "\n",
    "frame = []\n",
    "for i in range(0,nComp):\n",
    "    a = data_plot['Component'+str(i)+'_topo'].get_values().mean() \n",
    "    mask = a >= th[:,i]\n",
    "    frame.append(pd.DataFrame({'Component':i,'Data':[a],'mask':[mask]}))\n",
    "    \n",
    "A = pd.concat((frame),axis=0)\n",
    "\n",
    "Vmin = np.stack(A['Data'].get_values()).min()\n",
    "Vmax = np.stack(A['Data'].get_values()).max()\n",
    "\n",
    "\n",
    "plot_topo_image(A,Vmin,Vmax,'Component') \n"
   ]
  },
  {
   "cell_type": "code",
   "execution_count": null,
   "metadata": {
    "code_folding": [
     0
    ]
   },
   "outputs": [],
   "source": [
    "# explore temporal filters sperately\n",
    "b = data_plot[(data_plot['subject']==subject_name[S]) & (data_plot['Delay']==D)]\n",
    "A = []\n",
    "for i in range(nComp):\n",
    "    a = b['Component'+str(i)+'_filters'].get_values()[0][0]\n",
    "    for f in range(0,len(features)):\n",
    "        for j in range(0,surr_filters.shape[1]):\n",
    "            df = pd.DataFrame({'Feature':features[f],'Component':i,'time':[tvec[j]],\n",
    "                               'cond':'surrogate','Data':[surr_filters[:,j,i,f].mean()]})\n",
    "            A.append(df)    \n",
    "            df = pd.DataFrame({'Feature':features[f],'Component':i,'time':[tvec[j]],\n",
    "                               'cond':'original','Data':a[:,f][j]})\n",
    "            A.append(df)    \n",
    "            \n",
    "            # significant times\n",
    "            th = np.percentile(surr_filters[:,j,i,f],95)\n",
    "            if(a[:,f][j]>=th):\n",
    "                df = pd.DataFrame({'Feature':features[f],'Component':i,'time':[tvec[j]],\n",
    "                               'cond':'significant','Data':0.02})\n",
    "                \n",
    "            else:\n",
    "                df = pd.DataFrame({'Feature':features[f],'Component':i,'time':[tvec[j]],\n",
    "                               'cond':'significant','Data': 0})    \n",
    "            A.append(df)    \n",
    "            \n",
    "temporal_filters = pd.concat((A),axis=0)\n",
    "fg = sns.FacetGrid(temporal_filters,col='Component',row='Feature',hue='cond',margin_titles=True)\n",
    "b = fg.map_dataframe(sns.lineplot, 'time','Data').add_legend()"
   ]
  },
  {
   "cell_type": "code",
   "execution_count": null,
   "metadata": {},
   "outputs": [],
   "source": []
  },
  {
   "cell_type": "code",
   "execution_count": null,
   "metadata": {},
   "outputs": [],
   "source": []
  },
  {
   "cell_type": "markdown",
   "metadata": {},
   "source": [
    "# single trial / condition wise CCA analysis"
   ]
  },
  {
   "cell_type": "code",
   "execution_count": null,
   "metadata": {
    "code_folding": [
     0
    ]
   },
   "outputs": [],
   "source": [
    "#load data\n",
    "save_path = data_path + '/python/data/cca/cca_yannis_bycondition_alltrial_0delay.pkl'\n",
    "save_path = data_path + '/python/data/cca/cca_yannis_singletrial_alltrial_0delay.pkl'\n",
    "\n",
    "data_CCA = pd.read_pickle(save_path)"
   ]
  },
  {
   "cell_type": "code",
   "execution_count": null,
   "metadata": {},
   "outputs": [],
   "source": [
    "data_CCA.shape"
   ]
  },
  {
   "cell_type": "code",
   "execution_count": null,
   "metadata": {
    "code_folding": [
     0
    ]
   },
   "outputs": [],
   "source": [
    "# arrange data (single trial)\n",
    "frame=[]\n",
    "for i in range(0,data_CCA.shape[0]):\n",
    "    A = data_CCA.iloc[i]       \n",
    "    for ii in range(0,nComp):\n",
    "        a = pd.DataFrame({'subject':A['subject'],'Trial':[A['Trial']],\n",
    "                       'phoneme_dur':A['phoneme_dur'],'phoneme_rate':A['phoneme_rate'],\n",
    "                          'Component':ii,'corr':A['Component'+str(ii)+'_corr']})\n",
    "        frame.append(a)\n",
    "A = pd.concat((frame),axis=0)\n",
    "A.head()\n",
    "\n",
    "\n",
    "# apply some math on data\n",
    "#a  = A['corr'].apply(lambda x: np.log(x))\n",
    "#A['log_corr'] = pd.Series(a, index=A.index)"
   ]
  },
  {
   "cell_type": "code",
   "execution_count": null,
   "metadata": {
    "code_folding": [
     0
    ]
   },
   "outputs": [],
   "source": [
    "# arrange data (by condition)\n",
    "a = data_CCA[['Component0_corr','Component1_corr','Component2_corr','Component3_corr'\n",
    "            ,'Component4_corr']].get_values().flatten()\n",
    "b=[]\n",
    "for i in range(0,nComp):\n",
    "    b.append(np.ones(a.shape[0])+i)\n",
    "b = np.stack(b).ravel()\n",
    "\n",
    "A = pd.DataFrame()\n",
    "\n",
    "A['Component'] = pd.Series(np.repeat(np.arange(0,nComp), len(subject_name)))\n",
    "A['corr'] = pd.Series(a,dtype='float')\n",
    "A['phoneme_dur'] = pd.Series(data_CCA['phoneme_dur'].get_values().flatten(),dtype='float')\n",
    "A['phoneme_rate'] = pd.Series(data_CCA['phoneme_rate'].get_values().flatten(),dtype='float')\n",
    "A['subject'] = pd.Series(np.repeat(subject_name, nComp))\n",
    "A['condition'] = pd.Series(np.tile([1,2,3], 75))\n",
    "\n",
    "A.head()\n"
   ]
  },
  {
   "cell_type": "code",
   "execution_count": null,
   "metadata": {
    "code_folding": [
     0
    ]
   },
   "outputs": [],
   "source": [
    "# plot phoneme_dur vs corr score\n",
    "#B=A[A['Component']==2]\n",
    "\n",
    "g = sns.lmplot(x=\"corr\", y=\"phoneme_dur\", col=\"Component\",data=A)\n"
   ]
  },
  {
   "cell_type": "code",
   "execution_count": null,
   "metadata": {
    "code_folding": [
     0
    ]
   },
   "outputs": [],
   "source": [
    "# plot phoneme rate vs corr score\n",
    "g = sns.lmplot(x=\"corr\", y=\"phoneme_rate\", col=\"Component\",data=A)"
   ]
  },
  {
   "cell_type": "code",
   "execution_count": null,
   "metadata": {
    "code_folding": [
     0
    ],
    "scrolled": true
   },
   "outputs": [],
   "source": [
    "# Initialize a grid of plots with an Axes for each walk\n",
    "grid = sns.FacetGrid(A, col=\"Component\",height=1.5)\n",
    "# Draw a line plot to show the trajectory of each random walk\n",
    "\n",
    "grid.map(plt.bar, \"condition\", \"corr\")"
   ]
  },
  {
   "cell_type": "code",
   "execution_count": null,
   "metadata": {},
   "outputs": [],
   "source": []
  },
  {
   "cell_type": "code",
   "execution_count": null,
   "metadata": {},
   "outputs": [],
   "source": []
  },
  {
   "cell_type": "markdown",
   "metadata": {},
   "source": [
    "# yannis CCA imlementation in matlab (for comparisons)"
   ]
  },
  {
   "cell_type": "code",
   "execution_count": null,
   "metadata": {
    "code_folding": [
     0,
     3
    ]
   },
   "outputs": [],
   "source": [
    "# load data from matlab\n",
    "frame = []\n",
    "\n",
    "for s in range(0,len(subject_name)):\n",
    "    for d in delay:\n",
    "        if(d==0.0):\n",
    "            d=0\n",
    "        raw_fname = data_path + '/python/matlab_CCA/cca/cca_delay_'+str(d)+'_'+subject_name[s]+'.mat'\n",
    "        mat = scipy.io.loadmat(raw_fname)\n",
    "\n",
    "        forwards = mat['forwards']\n",
    "        filters = mat['filters']\n",
    "        rhos = mat['rhos']\n",
    "        for i in range(0,nComp):\n",
    "            b = np.split(filters[:-1,i],6)\n",
    "            b = np.vstack(b)\n",
    "\n",
    "            a = forwards[:,i]\n",
    "            a = pd.DataFrame({'subject':subject_name[s],'Delay':d,'Component':i,'Data':[a],\n",
    "                              'corr':rhos[i],'filter':[b.T]})\n",
    "            frame.append(a)\n",
    "\n",
    "    \n",
    "\n",
    "data_plot_matlab = pd.concat((frame),axis=0)\n",
    "    \n",
    "data_plot_matlab.head()"
   ]
  },
  {
   "cell_type": "code",
   "execution_count": null,
   "metadata": {
    "code_folding": [
     0,
     3
    ]
   },
   "outputs": [],
   "source": [
    "# data vis function only for yannis matlab\n",
    "\n",
    "# plot all components topo at all delay\n",
    "def plotCCA_topo2(data_plot_matlab,s,d):\n",
    "    B = data_plot_matlab[data_plot_matlab['subject']==subject_name[s]]\n",
    "\n",
    "    frame = []\n",
    "    for i in range(0,nComp):\n",
    "        df = B[(B['Delay']==d) & (B['Component']==i)]['Data'].get_values()\n",
    "        a = np.stack(df).mean(axis=0)\n",
    "        a = pd.DataFrame({'Component':i,'Data':[a]})\n",
    "        frame.append(a)\n",
    "\n",
    "    A = pd.concat((frame),axis=0)\n",
    "\n",
    "    Vmin = np.stack(A['Data'].get_values()).min()\n",
    "    Vmax = np.stack(A['Data'].get_values()).max()\n",
    "    \n",
    "    return A,Vmin,Vmax\n",
    "\n",
    "# plot component filter\n",
    "def plotComp_filter2(data_plot_matlab,s,d):\n",
    "    B = data_plot_matlab[data_plot_matlab['subject']==subject_name[s]]\n",
    "    A = []\n",
    "    for i in range(0,nComp):\n",
    "        a = B[(B['Delay']==d) & (B['Component']==i)]['filter'].get_values()[0]        \n",
    "        A.append(a)    \n",
    "    A = np.stack(A)\n",
    "    \n",
    "    if(abs(A.min())<abs(A.max())):\n",
    "        aa = abs(A.max())\n",
    "    else:\n",
    "        aa = abs(A.min())\n",
    "            \n",
    "    f, ax = plt.subplots(figsize=(15,2))\n",
    "    for i in range(0,nComp):\n",
    "        a = A[i,:,:]\n",
    "        axx=plt.subplot(1,nComp,i+1)\n",
    "        plt.plot(a)\n",
    "        plt.title('comp= '+str(i))\n",
    "        plt.ylim([-0.022,0.022])\n",
    "        axx.set_xticklabels([0.1,-0.5,0,0.5])\n",
    "        if not(i==0):\n",
    "            plt.yticks([])        \n",
    "    \n",
    "    plt.legend(np.arange(1,7),loc='upper center', bbox_to_anchor=(0, 1.5),ncol=6)\n",
    "    \n"
   ]
  },
  {
   "cell_type": "code",
   "execution_count": null,
   "metadata": {},
   "outputs": [],
   "source": [
    "plotComp_filter2(data_plot_matlab,S,D)\n"
   ]
  },
  {
   "cell_type": "code",
   "execution_count": null,
   "metadata": {
    "code_folding": []
   },
   "outputs": [],
   "source": [
    "\n",
    "delay = np.arange(-5,5.5,0.5) / 10\n",
    "# plot all components topo at one delay\n",
    "for d in delay:\n",
    "    A,Vmin,Vmax=plotCCA_topo2(data_plot_matlab,S,d)\n",
    "    plot_topo_image(A,Vmin,Vmax,'Component') \n",
    "    plt.title(subject_name[S]+' delay '+str(d))"
   ]
  },
  {
   "cell_type": "code",
   "execution_count": null,
   "metadata": {},
   "outputs": [],
   "source": [
    "delay = np.arange(-5,5.5,0.5) / 10\n",
    "delay = np.arange(-5,6) / 10\n",
    "# plot component filter\n",
    "for d in delay:\n",
    "    plotComp_filter2(data_plot_matlab,S,d)\n",
    "    plt.title(subject_name[S]+' delay '+str(d))"
   ]
  },
  {
   "cell_type": "code",
   "execution_count": null,
   "metadata": {},
   "outputs": [],
   "source": [
    "# plot all subjects topo at one delay\n",
    "for s in range(0,len(subject_name)):\n",
    "    A,Vmin,Vmax=plotCCA_topo2(data_plot_matlab,s,D)\n",
    "    plot_topo_image(A,Vmin,Vmax,'Component') \n",
    "    plt.title(subject_name[s])"
   ]
  },
  {
   "cell_type": "code",
   "execution_count": null,
   "metadata": {
    "code_folding": [
     0,
     17
    ]
   },
   "outputs": [],
   "source": [
    "# plot all components topo at 0 delay\n",
    "A = data_plot_matlab[data_plot_matlab['subject']==subject_name[S]]\n",
    "\n",
    "\n",
    "a=[]\n",
    "for i in range(0,nComp):\n",
    "    a.append([A['Data'].get_values()[D].max(),A['Data'].get_values()[D].min()])\n",
    "\n",
    "a=np.asarray(a)\n",
    "VVmax = np.max(a[:,0])\n",
    "VVmin = np.min(a[:,1])\n",
    "\n",
    "def draw_heatmap(*args, **kwargs):\n",
    "    data = kwargs.pop('data')\n",
    "    x = data['Data'].any() \n",
    "    mne.viz.plot_topomap(x, info.info, show=False,vmin=VVmin,vmax=VVmax,cmap='RdBu_r')\n",
    "\n",
    "def plot_topo_image(df,vmin,vmax,typeF):\n",
    "    fg = sns.FacetGrid(df,col=typeF,margin_titles=True)\n",
    "    b = fg.map_dataframe(draw_heatmap, 'Data')\n",
    "    b = b.set_xlabels('')\n",
    "    b.fig.subplots_adjust(top=0.7)\n",
    "    b.fig.subplots_adjust(right=0.8)\n",
    "    cbar_ax = b.fig.add_axes([0.82,0.25,0.01,0.45]) # [left, bottom, width, height] \n",
    "    norm = mpl.colors.Normalize(vmin=vmin,vmax=vmax)\n",
    "    sm = plt.cm.ScalarMappable(cmap='RdBu_r', norm=norm)\n",
    "    sm.set_array([])\n",
    "    plt.colorbar(sm, ticks=np.linspace(vmin,vmax,5),cax=cbar_ax,label='weight amplitude')\n",
    "    \n",
    "plot_topo_image(A,VVmin,VVmax,'Component') \n",
    "\n",
    "\n",
    "# plot component filter\n",
    "B = data_plot_matlab[data_plot_matlab['subject']==subject_name[S]]\n",
    "df = B[(B['Delay']==D)]\n",
    "\n",
    "\n",
    "A = []\n",
    "for i in range(0,nComp):\n",
    "    a = df['filter'].get_values()[i]\n",
    "    A.append(a)    \n",
    "A = np.stack(A)\n",
    "\n",
    "if(abs(A.min())<abs(A.max())):\n",
    "    aa = abs(A.max())\n",
    "else:\n",
    "    aa = abs(A.min())\n",
    "\n",
    "f, ax = plt.subplots(figsize=(15,2))\n",
    "for i in range(0,nComp):\n",
    "    a = A[i,:,:]\n",
    "    axx=plt.subplot(1,nComp,i+1)\n",
    "    plt.plot(a)\n",
    "    plt.title('comp= '+str(i))\n",
    "    plt.ylim([-aa,aa])\n",
    "    axx.set_xticklabels([0.1,-0.5,0,0.5])\n",
    "    if not(i==0):\n",
    "        plt.yticks([])        \n",
    "\n",
    "plt.legend(np.arange(1,7),loc='upper center', bbox_to_anchor=(0, 1.5),ncol=6)\n",
    "\n",
    "\n",
    "\n",
    "\n",
    "\n",
    "\n",
    "# componet plot\n",
    "f, ax = plt.subplots(figsize=(12,8))\n",
    "\n",
    "sns.lineplot(x='Component',y='corr',data=data_plot_matlab,hue='subject')\n",
    "plt.legend(bbox_to_anchor=(1.05, 1), loc=2, borderaxespad=0.)\n",
    "\n"
   ]
  },
  {
   "cell_type": "code",
   "execution_count": null,
   "metadata": {},
   "outputs": [],
   "source": []
  }
 ],
 "metadata": {
  "kernelspec": {
   "display_name": "Python 3",
   "language": "python",
   "name": "python3"
  },
  "language_info": {
   "codemirror_mode": {
    "name": "ipython",
    "version": 3
   },
   "file_extension": ".py",
   "mimetype": "text/x-python",
   "name": "python",
   "nbconvert_exporter": "python",
   "pygments_lexer": "ipython3",
   "version": "3.6.6"
  }
 },
 "nbformat": 4,
 "nbformat_minor": 2
}
